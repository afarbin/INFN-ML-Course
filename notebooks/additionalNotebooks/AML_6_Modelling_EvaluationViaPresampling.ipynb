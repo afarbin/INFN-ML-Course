{
 "cells": [
  {
   "cell_type": "markdown",
   "metadata": {},
   "source": [
    "# Evaluate the performance of ML algos with Resampling"
   ]
  },
  {
   "cell_type": "markdown",
   "metadata": {},
   "source": [
    "## Why is this _really_ needed?"
   ]
  },
  {
   "cell_type": "markdown",
   "metadata": {},
   "source": [
    "Discussed in the hands-on session.\n",
    "\n",
    "We are going to look at 4 different techniques that we can use to split up our training dataset and create useful estimates of performance for our ML algorithms:\n",
    "\n",
    "1. Split into Train and Test Sets\n",
    "1. k-fold Cross-Validation\n",
    "1. Leave One Out Cross-Validation\n",
    "1. Repeated Random Test-Train Splits"
   ]
  },
  {
   "cell_type": "markdown",
   "metadata": {},
   "source": [
    "## 1. Split into Train and Test Sets"
   ]
  },
  {
   "cell_type": "markdown",
   "metadata": {},
   "source": [
    "Discussed in the lecture, and also in the hands-on.\n",
    "\n",
    "This algorithm evaluation technique is very fast. It has pros and cons:\n",
    "* _Pro_. It is ideal for large datasets (millions of records): splitting a large dataset into largish sub-datasets allows that that 1) each split of the data is **not too tiny**, and 2) both are **representative** of the underlying problem. Because of the speed, it is useful to use this approach when the algorithm you are investigating is slow to train. \n",
    "* _Con_. A downside of this technique is that it can have a **high variance**. This means that differences in the training and test dataset can result in meaningful differences in the estimate of accuracy.\n",
    "\n",
    "In the example below we split our dataset into 67%/33% splits for training and test and evaluate the accuracy of a Logistic Regression model."
   ]
  },
  {
   "cell_type": "code",
   "execution_count": 16,
   "metadata": {},
   "outputs": [],
   "source": [
    "from pandas import read_csv\n",
    "from sklearn.model_selection import train_test_split\n",
    "from sklearn.linear_model import LogisticRegression"
   ]
  },
  {
   "cell_type": "code",
   "execution_count": 17,
   "metadata": {
    "scrolled": true
   },
   "outputs": [],
   "source": [
    "# data import\n",
    "filename = 'pima-indians-diabetes.data.csv'\n",
    "names = ['preg', 'plas', 'pres', 'skin', 'test', 'mass', 'pedi', 'age', 'class']\n",
    "dataframe = read_csv(filename, names=names)\n",
    "dataframe\n",
    "array = dataframe.values\n",
    "X = array[:,0:8]\n",
    "Y = array[:,8]"
   ]
  },
  {
   "cell_type": "code",
   "execution_count": 18,
   "metadata": {},
   "outputs": [],
   "source": [
    "# prepare for the evaluation with a train and test set\n",
    "test_size = 0.33\n",
    "seed = 7"
   ]
  },
  {
   "cell_type": "code",
   "execution_count": 19,
   "metadata": {},
   "outputs": [
    {
     "name": "stdout",
     "output_type": "stream",
     "text": [
      "Accuracy: 75.591%\n"
     ]
    }
   ],
   "source": [
    "# Evaluate using a train and a test set\n",
    "X_train, X_test, Y_train, Y_test = train_test_split(X, Y, test_size=test_size, random_state=seed)\n",
    "model = LogisticRegression()            # choose a model\n",
    "model.fit(X_train, Y_train)             # train on the training set\n",
    "result = model.score(X_test, Y_test)    # get accuracy as measured on the test set\n",
    "print(\"Accuracy: %.3f%%\" % (result*100.0))"
   ]
  },
  {
   "cell_type": "markdown",
   "metadata": {},
   "source": [
    "## <font color='red'>Exercise 1</font>"
   ]
  },
  {
   "cell_type": "markdown",
   "metadata": {},
   "source": [
    "<div class=\"alert alert-block alert-info\">\n",
    "Verify that the split was properly done.\n",
    "</div>"
   ]
  },
  {
   "cell_type": "markdown",
   "metadata": {},
   "source": [
    "## <font color='red'>Solution</font>"
   ]
  },
  {
   "cell_type": "code",
   "execution_count": 5,
   "metadata": {},
   "outputs": [
    {
     "name": "stdout",
     "output_type": "stream",
     "text": [
      "514\n",
      "514\n",
      "254\n",
      "254\n",
      "(768, 9)\n",
      "768\n"
     ]
    }
   ],
   "source": [
    "### trivial checks\n",
    "print(len(X_train))\n",
    "print(len(Y_train))\n",
    "print(len(X_test))\n",
    "print(len(Y_test))\n",
    "print(dataframe.shape)\n",
    "print len(X_train)+len(X_test)\n"
   ]
  },
  {
   "cell_type": "markdown",
   "metadata": {},
   "source": [
    "## <font color='red'>Done</font>. Let's continue."
   ]
  },
  {
   "cell_type": "markdown",
   "metadata": {},
   "source": [
    "## <font color='red'>Exercise 2</font>"
   ]
  },
  {
   "cell_type": "markdown",
   "metadata": {},
   "source": [
    "<div class=\"alert alert-block alert-info\">\n",
    "Try to change the seed, and re-train. Does accuracy change? Is it reproducible fora a fixed seed? for different seeds, could you measure its variance? (up to you how deep you, minimum is try few seeds and get a feeling..)\n",
    "</div>"
   ]
  },
  {
   "cell_type": "markdown",
   "metadata": {},
   "source": [
    "## <font color='red'>Solution</font>\n"
   ]
  },
  {
   "cell_type": "code",
   "execution_count": 20,
   "metadata": {},
   "outputs": [
    {
     "name": "stdout",
     "output_type": "stream",
     "text": [
      "Seed  1 - Accuracy: 77.559%\n",
      "Seed  2 - Accuracy: 73.622%\n",
      "Seed  3 - Accuracy: 75.591%\n",
      "Seed  4 - Accuracy: 80.315%\n",
      "Seed  5 - Accuracy: 78.346%\n",
      "Seed  6 - Accuracy: 77.953%\n",
      "Seed  7 - Accuracy: 75.591%\n",
      "Seed  8 - Accuracy: 78.346%\n",
      "Seed  9 - Accuracy: 73.622%\n",
      "Seed 10 - Accuracy: 74.803%\n",
      "Seed 11 - Accuracy: 77.953%\n",
      "Seed 12 - Accuracy: 79.921%\n",
      "Seed 13 - Accuracy: 74.016%\n",
      "Seed 14 - Accuracy: 75.984%\n",
      "Seed 15 - Accuracy: 74.803%\n",
      "Seed 16 - Accuracy: 79.134%\n",
      "Seed 17 - Accuracy: 78.740%\n",
      "Seed 18 - Accuracy: 74.016%\n",
      "Seed 19 - Accuracy: 77.559%\n",
      "Seed 20 - Accuracy: 74.016%\n",
      "Seed 21 - Accuracy: 74.016%\n",
      "Seed 22 - Accuracy: 77.165%\n",
      "Seed 23 - Accuracy: 76.378%\n",
      "Seed 24 - Accuracy: 70.079%\n",
      "Seed 25 - Accuracy: 80.315%\n",
      "Seed 26 - Accuracy: 77.165%\n",
      "Seed 27 - Accuracy: 75.197%\n",
      "Seed 28 - Accuracy: 77.953%\n",
      "Seed 29 - Accuracy: 77.559%\n",
      "Seed 30 - Accuracy: 79.134%\n",
      "Seed 31 - Accuracy: 77.165%\n",
      "Seed 32 - Accuracy: 77.559%\n",
      "Seed 33 - Accuracy: 75.591%\n",
      "Seed 34 - Accuracy: 79.134%\n",
      "Seed 35 - Accuracy: 73.622%\n",
      "Seed 36 - Accuracy: 77.953%\n",
      "Seed 37 - Accuracy: 79.134%\n",
      "Seed 38 - Accuracy: 74.409%\n",
      "Seed 39 - Accuracy: 74.016%\n",
      "Seed 40 - Accuracy: 73.228%\n",
      "Seed 41 - Accuracy: 74.409%\n",
      "Seed 42 - Accuracy: 76.772%\n",
      "Seed 43 - Accuracy: 79.528%\n",
      "Seed 44 - Accuracy: 77.559%\n",
      "Seed 45 - Accuracy: 75.591%\n",
      "Seed 46 - Accuracy: 76.772%\n",
      "Seed 47 - Accuracy: 74.803%\n",
      "Seed 48 - Accuracy: 77.165%\n",
      "Seed 49 - Accuracy: 75.984%\n",
      "Seed 50 - Accuracy: 75.197%\n",
      "Seed 51 - Accuracy: 75.197%\n",
      "Seed 52 - Accuracy: 75.197%\n",
      "Seed 53 - Accuracy: 75.984%\n",
      "Seed 54 - Accuracy: 74.803%\n",
      "Seed 55 - Accuracy: 71.654%\n",
      "Seed 56 - Accuracy: 80.315%\n",
      "Seed 57 - Accuracy: 79.921%\n",
      "Seed 58 - Accuracy: 75.197%\n",
      "Seed 59 - Accuracy: 76.772%\n",
      "Seed 60 - Accuracy: 77.165%\n",
      "Seed 61 - Accuracy: 76.772%\n",
      "Seed 62 - Accuracy: 74.016%\n",
      "Seed 63 - Accuracy: 77.953%\n",
      "Seed 64 - Accuracy: 78.346%\n",
      "Seed 65 - Accuracy: 75.591%\n",
      "Seed 66 - Accuracy: 77.165%\n",
      "Seed 67 - Accuracy: 74.803%\n",
      "Seed 68 - Accuracy: 76.378%\n",
      "Seed 69 - Accuracy: 75.984%\n",
      "Seed 70 - Accuracy: 74.016%\n",
      "Seed 71 - Accuracy: 77.559%\n",
      "Seed 72 - Accuracy: 77.953%\n",
      "Seed 73 - Accuracy: 76.772%\n",
      "Seed 74 - Accuracy: 81.496%\n",
      "Seed 75 - Accuracy: 79.528%\n",
      "Seed 76 - Accuracy: 79.528%\n",
      "Seed 77 - Accuracy: 79.528%\n",
      "Seed 78 - Accuracy: 75.197%\n",
      "Seed 79 - Accuracy: 79.921%\n",
      "Seed 80 - Accuracy: 77.559%\n",
      "Seed 81 - Accuracy: 74.409%\n",
      "Seed 82 - Accuracy: 83.465%\n",
      "Seed 83 - Accuracy: 79.134%\n",
      "Seed 84 - Accuracy: 80.709%\n",
      "Seed 85 - Accuracy: 74.803%\n",
      "Seed 86 - Accuracy: 77.559%\n",
      "Seed 87 - Accuracy: 75.984%\n",
      "Seed 88 - Accuracy: 78.346%\n",
      "Seed 89 - Accuracy: 75.984%\n",
      "Seed 90 - Accuracy: 74.803%\n",
      "Seed 91 - Accuracy: 76.772%\n",
      "Seed 92 - Accuracy: 75.591%\n",
      "Seed 93 - Accuracy: 76.378%\n",
      "Seed 94 - Accuracy: 76.772%\n",
      "Seed 95 - Accuracy: 76.772%\n",
      "Seed 96 - Accuracy: 75.197%\n",
      "Seed 97 - Accuracy: 76.772%\n",
      "Seed 98 - Accuracy: 77.165%\n",
      "Seed 99 - Accuracy: 77.559%\n"
     ]
    },
    {
     "data": {
      "image/png": "[encoded data removed]",
      "text/plain": [
       "<Figure size 432x288 with 1 Axes>"
      ]
     },
     "metadata": {
      "needs_background": "light"
     },
     "output_type": "display_data"
    },
    {
     "name": "stdout",
     "output_type": "stream",
     "text": [
      "76.71597868448262\n",
      "4.819132176780833\n"
     ]
    }
   ],
   "source": [
    "### put your code here\n",
    "\n",
    "import matplotlib.pyplot as plt\n",
    "import numpy as np\n",
    "\n",
    "accuracies = []   # create an empty py list\n",
    "\n",
    "for seed in range(1,100):   # insert all the code above into a loop over seeds\n",
    "    X_train, X_test, Y_train, Y_test = train_test_split(X, Y, test_size=test_size, random_state=seed)\n",
    "    model = LogisticRegression()            # choose a model\n",
    "    model.fit(X_train, Y_train)             # train on the training set\n",
    "    result = model.score(X_test, Y_test)    # get accuracy as measured on the test set\n",
    "    output_result = result*100.0\n",
    "    print(\"Seed %2d - Accuracy: %.3f%%\" % (seed,output_result))\n",
    "    accuracies.append(output_result)\n",
    "\n",
    "plt.plot(np.array(accuracies), label='Accuracies for different seeds (no plot cosmetics)')\n",
    "plt.legend()\n",
    "plt.show()\n",
    "\n",
    "print(np.mean(accuracies))\n",
    "print(np.var(accuracies))"
   ]
  },
  {
   "cell_type": "markdown",
   "metadata": {},
   "source": [
    "## <font color='red'>Done</font>. Let's continue."
   ]
  },
  {
   "cell_type": "markdown",
   "metadata": {},
   "source": [
    "## <font color='red'>Exercise 3</font>"
   ]
  },
  {
   "cell_type": "markdown",
   "metadata": {},
   "source": [
    "<div class=\"alert alert-block alert-info\">\n",
    "What happens if I check accuracy on the _train_ set (conceptually wrong)? Do I see something different or not? What is the drawback if I do this mistake?\n",
    "</div>"
   ]
  },
  {
   "cell_type": "markdown",
   "metadata": {},
   "source": [
    "## <font color='red'>Solution</font>\n"
   ]
  },
  {
   "cell_type": "code",
   "execution_count": 21,
   "metadata": {},
   "outputs": [
    {
     "name": "stdout",
     "output_type": "stream",
     "text": [
      "Accuracy: 78.210%\n",
      "Seed  1 - Accuracy: 77.043%\n",
      "Seed  2 - Accuracy: 78.016%\n",
      "Seed  3 - Accuracy: 78.405%\n",
      "Seed  4 - Accuracy: 75.681%\n",
      "Seed  5 - Accuracy: 75.875%\n",
      "Seed  6 - Accuracy: 76.654%\n",
      "Seed  7 - Accuracy: 78.210%\n",
      "Seed  8 - Accuracy: 77.237%\n",
      "Seed  9 - Accuracy: 78.988%\n",
      "Seed 10 - Accuracy: 78.405%\n",
      "Seed 11 - Accuracy: 77.432%\n",
      "Seed 12 - Accuracy: 76.654%\n",
      "Seed 13 - Accuracy: 78.599%\n",
      "Seed 14 - Accuracy: 77.043%\n",
      "Seed 15 - Accuracy: 78.016%\n",
      "Seed 16 - Accuracy: 77.043%\n",
      "Seed 17 - Accuracy: 77.237%\n",
      "Seed 18 - Accuracy: 78.599%\n",
      "Seed 19 - Accuracy: 76.848%\n",
      "Seed 20 - Accuracy: 76.848%\n",
      "Seed 21 - Accuracy: 78.988%\n",
      "Seed 22 - Accuracy: 76.848%\n",
      "Seed 23 - Accuracy: 78.599%\n",
      "Seed 24 - Accuracy: 80.545%\n",
      "Seed 25 - Accuracy: 75.681%\n",
      "Seed 26 - Accuracy: 76.265%\n",
      "Seed 27 - Accuracy: 77.237%\n",
      "Seed 28 - Accuracy: 77.237%\n",
      "Seed 29 - Accuracy: 77.821%\n",
      "Seed 30 - Accuracy: 76.459%\n",
      "Seed 31 - Accuracy: 76.654%\n",
      "Seed 32 - Accuracy: 77.043%\n",
      "Seed 33 - Accuracy: 77.626%\n",
      "Seed 34 - Accuracy: 75.292%\n",
      "Seed 35 - Accuracy: 77.821%\n",
      "Seed 36 - Accuracy: 77.626%\n",
      "Seed 37 - Accuracy: 77.432%\n",
      "Seed 38 - Accuracy: 78.210%\n",
      "Seed 39 - Accuracy: 79.183%\n",
      "Seed 40 - Accuracy: 77.432%\n",
      "Seed 41 - Accuracy: 78.405%\n",
      "Seed 42 - Accuracy: 77.821%\n",
      "Seed 43 - Accuracy: 76.265%\n",
      "Seed 44 - Accuracy: 76.459%\n",
      "Seed 45 - Accuracy: 78.405%\n",
      "Seed 46 - Accuracy: 77.237%\n",
      "Seed 47 - Accuracy: 78.599%\n",
      "Seed 48 - Accuracy: 77.821%\n",
      "Seed 49 - Accuracy: 77.043%\n",
      "Seed 50 - Accuracy: 78.794%\n",
      "Seed 51 - Accuracy: 78.794%\n",
      "Seed 52 - Accuracy: 78.599%\n",
      "Seed 53 - Accuracy: 77.432%\n",
      "Seed 54 - Accuracy: 78.988%\n",
      "Seed 55 - Accuracy: 80.545%\n",
      "Seed 56 - Accuracy: 75.292%\n",
      "Seed 57 - Accuracy: 76.265%\n",
      "Seed 58 - Accuracy: 78.599%\n",
      "Seed 59 - Accuracy: 77.821%\n",
      "Seed 60 - Accuracy: 78.599%\n",
      "Seed 61 - Accuracy: 77.432%\n",
      "Seed 62 - Accuracy: 78.405%\n",
      "Seed 63 - Accuracy: 76.848%\n",
      "Seed 64 - Accuracy: 77.432%\n",
      "Seed 65 - Accuracy: 77.043%\n",
      "Seed 66 - Accuracy: 77.043%\n",
      "Seed 67 - Accuracy: 78.988%\n",
      "Seed 68 - Accuracy: 78.794%\n",
      "Seed 69 - Accuracy: 77.043%\n",
      "Seed 70 - Accuracy: 78.405%\n",
      "Seed 71 - Accuracy: 78.210%\n",
      "Seed 72 - Accuracy: 77.043%\n",
      "Seed 73 - Accuracy: 77.821%\n",
      "Seed 74 - Accuracy: 76.654%\n",
      "Seed 75 - Accuracy: 76.654%\n",
      "Seed 76 - Accuracy: 76.654%\n",
      "Seed 77 - Accuracy: 76.654%\n",
      "Seed 78 - Accuracy: 77.821%\n",
      "Seed 79 - Accuracy: 75.875%\n",
      "Seed 80 - Accuracy: 77.043%\n",
      "Seed 81 - Accuracy: 78.794%\n",
      "Seed 82 - Accuracy: 75.292%\n",
      "Seed 83 - Accuracy: 76.070%\n",
      "Seed 84 - Accuracy: 75.486%\n",
      "Seed 85 - Accuracy: 77.043%\n",
      "Seed 86 - Accuracy: 76.654%\n",
      "Seed 87 - Accuracy: 76.848%\n",
      "Seed 88 - Accuracy: 76.459%\n",
      "Seed 89 - Accuracy: 78.210%\n",
      "Seed 90 - Accuracy: 77.237%\n",
      "Seed 91 - Accuracy: 76.654%\n",
      "Seed 92 - Accuracy: 76.654%\n",
      "Seed 93 - Accuracy: 77.237%\n",
      "Seed 94 - Accuracy: 77.626%\n",
      "Seed 95 - Accuracy: 76.848%\n",
      "Seed 96 - Accuracy: 77.626%\n",
      "Seed 97 - Accuracy: 78.210%\n",
      "Seed 98 - Accuracy: 76.459%\n",
      "Seed 99 - Accuracy: 77.237%\n"
     ]
    },
    {
     "data": {
      "image/png": "[encoded data removed]",
      "text/plain": [
       "<Figure size 432x288 with 1 Axes>"
      ]
     },
     "metadata": {
      "needs_background": "light"
     },
     "output_type": "display_data"
    },
    {
     "name": "stdout",
     "output_type": "stream",
     "text": [
      "77.44566285422319\n",
      "1.0905987345884813\n"
     ]
    },
    {
     "data": {
      "image/png": "[encoded data removed]",
      "text/plain": [
       "<Figure size 432x288 with 1 Axes>"
      ]
     },
     "metadata": {
      "needs_background": "light"
     },
     "output_type": "display_data"
    }
   ],
   "source": [
    "test_size = 0.33      ###QUIZ\n",
    "seed = 7              ###QUIZ\n",
    "\n",
    "# Evaluate using a train and a test set, BUT ADD A MISTAKE!!\n",
    "X_train, X_test, Y_train, Y_test = train_test_split(X, Y, test_size=test_size, random_state=seed)\n",
    "model = LogisticRegression()            # choose a model\n",
    "model.fit(X_train, Y_train)             # train on the training set\n",
    "result = model.score(X_train, Y_train)    # <---NO! get accuracy as measured on the train set now! (MISTAKE for the ###QUIZ)\n",
    "print(\"Accuracy: %.3f%%\" % (result*100.0))\n",
    "\n",
    "accuracies_wrong = []   # create an empty py list\n",
    "\n",
    "for seed in range(1,100):   # insert all the code above into a loop over seeds\n",
    "    X_train, X_test, Y_train, Y_test = train_test_split(X, Y, test_size=test_size, random_state=seed)\n",
    "    model = LogisticRegression()            # choose a model\n",
    "    model.fit(X_train, Y_train)             # train on the training set\n",
    "    result = model.score(X_train, Y_train)  # get accuracy as measured on the train set now! (MISTAKE for the ###QUIZ)\n",
    "    output_result = result*100.0\n",
    "    print(\"Seed %2d - Accuracy: %.3f%%\" % (seed,output_result))\n",
    "    accuracies_wrong.append(output_result)\n",
    "\n",
    "plt.plot(np.array(accuracies_wrong), label='Accuracies WRONG for different seeds (no plot cosmetics)')\n",
    "plt.legend()\n",
    "plt.show()\n",
    "\n",
    "print(np.mean(accuracies_wrong))\n",
    "print(np.var(accuracies_wrong))\n",
    "\n",
    "plt.plot(np.array(accuracies), label='Accuracies')\n",
    "plt.plot(np.array(accuracies_wrong), label='Accuracies WRONG')\n",
    "plt.legend()\n",
    "plt.show()"
   ]
  },
  {
   "cell_type": "markdown",
   "metadata": {},
   "source": [
    "## <font color='red'>Done</font>. Let's continue."
   ]
  },
  {
   "cell_type": "markdown",
   "metadata": {},
   "source": [
    "## <font color='red'>Exercise 4</font>"
   ]
  },
  {
   "cell_type": "markdown",
   "metadata": {},
   "source": [
    "<div class=\"alert alert-block alert-info\">\n",
    "What if I change the training/test ratio?\n",
    "</div>"
   ]
  },
  {
   "cell_type": "code",
   "execution_count": 8,
   "metadata": {},
   "outputs": [],
   "source": [
    "### put your code here.. or do it as homework!"
   ]
  },
  {
   "cell_type": "markdown",
   "metadata": {},
   "source": [
    "## <font color='red'>Done</font>. Let's continue."
   ]
  },
  {
   "cell_type": "markdown",
   "metadata": {},
   "source": [
    "## 2. K-fold Cross-Validation"
   ]
  },
  {
   "cell_type": "markdown",
   "metadata": {},
   "source": [
    "Discussed in the hands-on."
   ]
  },
  {
   "cell_type": "code",
   "execution_count": 22,
   "metadata": {},
   "outputs": [],
   "source": [
    "from sklearn.model_selection import KFold\n",
    "from sklearn.model_selection import cross_val_score   # <---\n",
    "from sklearn.linear_model import LogisticRegression"
   ]
  },
  {
   "cell_type": "code",
   "execution_count": 23,
   "metadata": {},
   "outputs": [
    {
     "name": "stdout",
     "output_type": "stream",
     "text": [
      "Accuracy: 77.250% (21.901%)\n"
     ]
    }
   ],
   "source": [
    "# Evaluate using Cross Validation\n",
    "num_folds = 200\n",
    "seed = 7\n",
    "kfold = KFold(n_splits=num_folds, random_state=seed)\n",
    "model = LogisticRegression()\n",
    "results = cross_val_score(model, X, Y, cv=kfold)\n",
    "print(\"Accuracy: %.3f%% (%.3f%%)\" % (results.mean()*100.0, results.std()*100.0))"
   ]
  },
  {
   "cell_type": "markdown",
   "metadata": {},
   "source": [
    "## <font color='red'>Exercise</font>"
   ]
  },
  {
   "cell_type": "markdown",
   "metadata": {},
   "source": [
    "<div class=\"alert alert-block alert-info\">\n",
    "Homework: play around with it, i.e. change the nb of folds in the example above.\n",
    "</div>"
   ]
  },
  {
   "cell_type": "markdown",
   "metadata": {},
   "source": [
    "## <font color='red'>Solution</font>\n"
   ]
  },
  {
   "cell_type": "code",
   "execution_count": 11,
   "metadata": {},
   "outputs": [],
   "source": [
    "### put your code here\n"
   ]
  },
  {
   "cell_type": "markdown",
   "metadata": {},
   "source": [
    "## <font color='red'>Done</font>. Let's continue."
   ]
  },
  {
   "cell_type": "markdown",
   "metadata": {},
   "source": [
    "## 3. Leave One Out Cross-Validation"
   ]
  },
  {
   "cell_type": "markdown",
   "metadata": {},
   "source": [
    "Discussed in the hands-on."
   ]
  },
  {
   "cell_type": "code",
   "execution_count": 24,
   "metadata": {},
   "outputs": [],
   "source": [
    "from sklearn.model_selection import LeaveOneOut       # <---\n",
    "from sklearn.model_selection import cross_val_score\n",
    "from sklearn.linear_model import LogisticRegression"
   ]
  },
  {
   "cell_type": "code",
   "execution_count": 25,
   "metadata": {},
   "outputs": [
    {
     "name": "stdout",
     "output_type": "stream",
     "text": [
      "Accuracy: 76.823% (42.196%)\n"
     ]
    }
   ],
   "source": [
    "# Evaluate using Leave One Out Cross Validation\n",
    "loocv = LeaveOneOut()\n",
    "model = LogisticRegression()\n",
    "results = cross_val_score(model, X, Y, cv=loocv)\n",
    "print(\"Accuracy: %.3f%% (%.3f%%)\" % (results.mean()*100.0, results.std()*100.0))"
   ]
  },
  {
   "cell_type": "markdown",
   "metadata": {},
   "source": [
    "You can see in the standard deviation that the score has **higher variance** than the k-fold cross-validation results described above."
   ]
  },
  {
   "cell_type": "markdown",
   "metadata": {},
   "source": [
    "## 4. Repeated Random Test-Train Splits"
   ]
  },
  {
   "cell_type": "code",
   "execution_count": 26,
   "metadata": {},
   "outputs": [],
   "source": [
    "from sklearn.model_selection import ShuffleSplit      # <---\n",
    "from sklearn.model_selection import cross_val_score\n",
    "from sklearn.linear_model import LogisticRegression"
   ]
  },
  {
   "cell_type": "code",
   "execution_count": 27,
   "metadata": {},
   "outputs": [
    {
     "name": "stdout",
     "output_type": "stream",
     "text": [
      "Accuracy: 76.496% (1.698%)\n"
     ]
    }
   ],
   "source": [
    "# Evaluate using Shuffle Split Cross Validation\n",
    "n_splits = 10\n",
    "test_size = 0.33\n",
    "seed = 7\n",
    "\n",
    "kfold = ShuffleSplit(n_splits=n_splits, test_size=test_size, random_state=seed)\n",
    "model = LogisticRegression()\n",
    "results = cross_val_score(model, X, Y, cv=kfold)\n",
    "print(\"Accuracy: %.3f%% (%.3f%%)\" % (results.mean()*100.0, results.std()*100.0))"
   ]
  },
  {
   "cell_type": "markdown",
   "metadata": {},
   "source": [
    "## OK, fine, but.. what techniques to use when?!?"
   ]
  },
  {
   "cell_type": "markdown",
   "metadata": {},
   "source": [
    "There are some tips to consider what resampling technique to use in different circumstances.\n",
    "\n",
    "* Generally k-fold cross-validation is the gold standard for evaluating the performance of a ML algorithm on unseen data with k set to 3, 5, or 10.\n",
    "\n",
    "* Using a train/test split is good for speed when using a slow algorithm and produces performance estimates with lower bias when using large datasets.\n",
    "\n",
    "* Techniques like leave-one-out cross-validation and repeated random splits can be useful intermediates when trying to balance variance in the estimated performance, model training speed and dataset size.\n",
    "\n",
    "The best advice is to experiment and find a technique for your problem that is fast and produces reasonable estimates of performance that you can use to make decisions. If in doubt, use 10-fold cross-validation."
   ]
  },
  {
   "cell_type": "markdown",
   "metadata": {},
   "source": [
    "## Summary"
   ]
  },
  {
   "cell_type": "markdown",
   "metadata": {},
   "source": [
    "What we did:\n",
    "\n",
    "* we discovered 4 statistical techniques that we can use to estimate the performance of ML algorithms, called Resampling. "
   ]
  },
  {
   "cell_type": "markdown",
   "metadata": {},
   "source": [
    "## What's next "
   ]
  },
  {
   "cell_type": "markdown",
   "metadata": {},
   "source": [
    "Now we will see how you can evaluate the performance of classification and regression algorithms using a suite of different metrics and built in evaluation reports."
   ]
  }
 ],
 "metadata": {
  "kernelspec": {
   "display_name": "Python 2",
   "language": "python",
   "name": "python2"
  },
  "language_info": {
   "codemirror_mode": {
    "name": "ipython",
    "version": 2
   },
   "file_extension": ".py",
   "mimetype": "text/x-python",
   "name": "python",
   "nbconvert_exporter": "python",
   "pygments_lexer": "ipython2",
   "version": "2.7.16"
  }
 },
 "nbformat": 4,
 "nbformat_minor": 2
}
