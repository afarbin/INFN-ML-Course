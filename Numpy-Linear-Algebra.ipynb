{
  "nbformat": 4,
  "nbformat_minor": 0,
  "metadata": {
    "colab": {
      "name": "Numpy-Linear-Algebra.ipynb",
      "version": "0.3.2",
      "provenance": []
    },
    "language_info": {
      "codemirror_mode": {
        "name": "ipython",
        "version": 2
      },
      "file_extension": ".py",
      "mimetype": "text/x-python",
      "name": "python",
      "nbconvert_exporter": "python",
      "pygments_lexer": "ipython2",
      "version": "2.7.10"
    },
    "kernelspec": {
      "display_name": "Python 2",
      "language": "python",
      "name": "python2"
    }
  },
  "cells": [
    {
      "cell_type": "markdown",
      "metadata": {
        "deletable": true,
        "editable": true,
        "id": "A75gEW9p61nl",
        "colab_type": "text"
      },
      "source": [
        "# Linear Algebra with `numpy`\n",
        "`numpy` is very well [documented](https://docs.scipy.org/doc/numpy/reference/index.html). You can find a list of linear algebra operations in `numpy` [here](https://docs.scipy.org/doc/numpy/reference/routines.linalg.html). A more general and detailed description of linear algebra with `numpy` and `scipy` (which implements same routines) can be found [here](https://docs.scipy.org/doc/scipy/reference/tutorial/linalg.html).\n",
        "\n",
        "## Simple Example\n",
        "\n",
        "Following example walks through solving the basic $\\bf{A}x=y$ Linear Algebra problem:"
      ]
    },
    {
      "cell_type": "code",
      "metadata": {
        "deletable": true,
        "editable": true,
        "id": "98SB-oEw61np",
        "colab_type": "code",
        "colab": {},
        "outputId": "677cfa61-e7c9-4353-f24f-c53659ae9c56"
      },
      "source": [
        "import numpy as np\n",
        "\n",
        "A = np.array([[4.,5.],[-2.,-1.]])\n",
        "y = np.array([12.,2.])\n",
        "\n",
        "print \"A:\"\n",
        "print A\n",
        "print \"y\"\n",
        "print y\n",
        "\n",
        "A_inv=np.linalg.inv(A)\n",
        "\n",
        "print \"Inverse of A:\"\n",
        "print A_inv\n",
        "\n",
        "print \"A * A_inverse:\"\n",
        "print np.matmul(A,A_inv)\n",
        "\n",
        "print \"Identity:\"\n",
        "print np.eye(*A.shape)\n",
        "\n",
        "x= np.matmul(A_inv,y)\n",
        "\n",
        "print \"Solution: x=\"\n",
        "print x\n",
        "\n",
        "print \"Check solution: Ax=\"\n",
        "print np.matmul(A,x)\n",
        "print y==np.matmul(A,x)"
      ],
      "execution_count": 0,
      "outputs": [
        {
          "output_type": "stream",
          "text": [
            "A:\n",
            "[[ 4.  5.]\n",
            " [-2. -1.]]\n",
            "y\n",
            "[ 12.   2.]\n",
            "Inverse of A:\n",
            "[[-0.16666667 -0.83333333]\n",
            " [ 0.33333333  0.66666667]]\n",
            "A * A_inverse:\n",
            "[[  1.00000000e+00   1.11022302e-16]\n",
            " [ -5.55111512e-17   1.00000000e+00]]\n",
            "Identity:\n",
            "[[ 1.  0.]\n",
            " [ 0.  1.]]\n",
            "Solution: x=\n",
            "[-3.66666667  5.33333333]\n",
            "Check solution: Ax=\n",
            "[ 12.   2.]\n",
            "[ True False]\n"
          ],
          "name": "stdout"
        }
      ]
    },
    {
      "cell_type": "markdown",
      "metadata": {
        "deletable": true,
        "editable": true,
        "id": "cmceh01D61n1",
        "colab_type": "text"
      },
      "source": [
        "## Matrix Elements\n",
        "Consider an arbitrary matrix $A$:\n",
        "\n",
        "\\begin{equation*}\n",
        "A_{m,n} = \n",
        " \\begin{pmatrix}\n",
        "  a_{11} & a_{12} & \\cdots & a_{1n} \\\\\n",
        "  a_{21} & a_{22} & \\cdots & a_{2n} \\\\\n",
        "  \\vdots  & \\vdots  & \\ddots & \\vdots\\\\\n",
        "  a_{m1} & a_{m2} & \\cdots & a_{mn} \n",
        "\\end{pmatrix}\n",
        "\\end{equation*}\n",
        "\n",
        "we define the columns as $a_j=A_{:,j}$:\n",
        "\n",
        "\\begin{pmatrix} \n",
        "| & | &  &|\\\\\n",
        "a_1 & a_2 & \\dots &\\ a_n\\\\\n",
        "| & | &  &|\n",
        "\\end{pmatrix}\n",
        "\n",
        "and rows $a^T_i = A_{i,:}$:\n",
        "\n",
        "\\begin{pmatrix} \n",
        "- & a^T_1 & -\\\\\n",
        "- & a^T_2 & -\\\\\n",
        " & \\vdots & \\\\\n",
        "- & a^T_3 & -\\\\\n",
        "\\end{pmatrix}\n",
        "\n",
        "or in `numpy`:\n"
      ]
    },
    {
      "cell_type": "code",
      "metadata": {
        "deletable": true,
        "editable": true,
        "id": "XDx4gWty61n2",
        "colab_type": "code",
        "colab": {},
        "outputId": "8c43d2ae-2840-40aa-c671-ba0817cd90ed"
      },
      "source": [
        "# Make a random matrix\n",
        "A = np.random.rand(10,5)\n",
        "\n",
        "print \"A:\"\n",
        "print A\n",
        "print \"A shape:\", A.shape\n",
        "\n",
        "print \"A columns:\"\n",
        "for i in range(A.shape[1]):\n",
        "    print A[:,i]\n",
        "\n",
        "print \"A rows:\"\n",
        "for j in range(A.shape[0]):\n",
        "    print A[j,:]\n",
        "    # Note you can also use A[j]"
      ],
      "execution_count": 0,
      "outputs": [
        {
          "output_type": "stream",
          "text": [
            "A:\n",
            "[[ 0.1857658   0.9914786   0.14688488  0.51782651  0.31506233]\n",
            " [ 0.46652475  0.45476551  0.32537495  0.90067949  0.74373792]\n",
            " [ 0.17517705  0.91227926  0.42609185  0.49649815  0.47567801]\n",
            " [ 0.30332228  0.48546445  0.08527051  0.25605728  0.17729048]\n",
            " [ 0.75794902  0.87429816  0.63447476  0.30343447  0.35451195]\n",
            " [ 0.61749571  0.5754891   0.93561416  0.21249381  0.30292278]\n",
            " [ 0.53639015  0.74786813  0.14987921  0.47621104  0.51683194]\n",
            " [ 0.50127558  0.06536713  0.87343701  0.23528287  0.37193857]\n",
            " [ 0.89439111  0.11185206  0.18611861  0.16051202  0.8963326 ]\n",
            " [ 0.12725995  0.10884242  0.19656955  0.96073897  0.9217351 ]]\n",
            "A shape: (10, 5)\n",
            "A columns:\n",
            "[ 0.1857658   0.46652475  0.17517705  0.30332228  0.75794902  0.61749571\n",
            "  0.53639015  0.50127558  0.89439111  0.12725995]\n",
            "[ 0.9914786   0.45476551  0.91227926  0.48546445  0.87429816  0.5754891\n",
            "  0.74786813  0.06536713  0.11185206  0.10884242]\n",
            "[ 0.14688488  0.32537495  0.42609185  0.08527051  0.63447476  0.93561416\n",
            "  0.14987921  0.87343701  0.18611861  0.19656955]\n",
            "[ 0.51782651  0.90067949  0.49649815  0.25605728  0.30343447  0.21249381\n",
            "  0.47621104  0.23528287  0.16051202  0.96073897]\n",
            "[ 0.31506233  0.74373792  0.47567801  0.17729048  0.35451195  0.30292278\n",
            "  0.51683194  0.37193857  0.8963326   0.9217351 ]\n",
            "A rows:\n",
            "[ 0.1857658   0.9914786   0.14688488  0.51782651  0.31506233]\n",
            "[ 0.46652475  0.45476551  0.32537495  0.90067949  0.74373792]\n",
            "[ 0.17517705  0.91227926  0.42609185  0.49649815  0.47567801]\n",
            "[ 0.30332228  0.48546445  0.08527051  0.25605728  0.17729048]\n",
            "[ 0.75794902  0.87429816  0.63447476  0.30343447  0.35451195]\n",
            "[ 0.61749571  0.5754891   0.93561416  0.21249381  0.30292278]\n",
            "[ 0.53639015  0.74786813  0.14987921  0.47621104  0.51683194]\n",
            "[ 0.50127558  0.06536713  0.87343701  0.23528287  0.37193857]\n",
            "[ 0.89439111  0.11185206  0.18611861  0.16051202  0.8963326 ]\n",
            "[ 0.12725995  0.10884242  0.19656955  0.96073897  0.9217351 ]\n"
          ],
          "name": "stdout"
        }
      ]
    },
    {
      "cell_type": "markdown",
      "metadata": {
        "deletable": true,
        "editable": true,
        "id": "BnjeEFtM61n7",
        "colab_type": "text"
      },
      "source": [
        "# Matrix Operations\n",
        "\n",
        "* Transpose: $(A^T)_{ij} = A_{ji}$\n",
        "* Sum (elementwise): $C_{ij} = A_{ij} + B_{ij}$\n",
        "* Elementwise product: $C_{ij} = A_{ij} B_{ij}$\n",
        "* Matrix product: $C=A \\cdot B$: $C_{ij} = \\sum_{k} A_{ik} B_{kj}$.\n",
        "   * Note than if size of $A$ is $n \\times m$ then $B$ has to be of size $m \\times k$ and the resulting matrix will be of size $n \\times k$.\n",
        "   * Good way to visualize product:\n",
        "    \\begin{equation*}\n",
        "    AB=\n",
        "\\begin{pmatrix} \n",
        "- & a_1 & -\\\\\n",
        "- & a_2 & -\\\\\n",
        " & \\vdots & \\\\\n",
        "- & a_m & -\\\\\n",
        "\\end{pmatrix} \n",
        "\\begin{pmatrix} \n",
        "| & | &  &|\\\\\n",
        "b_1 & b_2 & \\dots &\\ b_n\\\\\n",
        "| & | &  &|\n",
        "\\end{pmatrix}=\n",
        "\\begin{pmatrix}\n",
        "a^T_1b_1 & a^T_1b_2 & \\dots & a^T_1b_n\\\\\n",
        "a^T_2b_1 & a^T_2b_2 & \\dots & a^T_2b_n\\\\\n",
        "\\vdots & \\vdots & \\ddots & \\vdots \\\\\n",
        "a^T_mb_1 & a^T_mb_2 & \\dots & a^T_mb_n\n",
        "\\end{pmatrix}\n",
        "\\end{equation*}"
      ]
    },
    {
      "cell_type": "code",
      "metadata": {
        "deletable": true,
        "editable": true,
        "id": "E11E-3ia61n8",
        "colab_type": "code",
        "colab": {},
        "outputId": "e043587d-1050-4496-8572-27d199c44e04"
      },
      "source": [
        "A = np.random.rand(5,4) \n",
        "print \"A:\"\n",
        "print A\n",
        "\n",
        "print \"A Transpose:\"\n",
        "print A.transpose()\n",
        "\n",
        "B = np.random.rand(5,4) \n",
        "print \"B:\",\n",
        "print B\n",
        "\n",
        "print \"A+B:\"\n",
        "print A+B\n",
        "\n",
        "print \"A*B:\"\n",
        "print A*B\n",
        "\n",
        "# For Matrix Multiply we need correct size B\n",
        "B1 = np.random.rand(4,5) \n",
        "\n",
        "print \"Matrix Multiply: A (dot) B1:\"\n",
        "print np.matmul(A,B1)"
      ],
      "execution_count": 0,
      "outputs": [
        {
          "output_type": "stream",
          "text": [
            "A:\n",
            "[[ 0.18491739  0.68777588  0.58073559  0.59948235]\n",
            " [ 0.57801374  0.88317636  0.00433694  0.00351015]\n",
            " [ 0.13678333  0.76358577  0.94153543  0.04827532]\n",
            " [ 0.88289194  0.46739869  0.68454506  0.82935157]\n",
            " [ 0.61692912  0.17721148  0.2045841   0.02608633]]\n",
            "A Transpose:\n",
            "[[ 0.18491739  0.57801374  0.13678333  0.88289194  0.61692912]\n",
            " [ 0.68777588  0.88317636  0.76358577  0.46739869  0.17721148]\n",
            " [ 0.58073559  0.00433694  0.94153543  0.68454506  0.2045841 ]\n",
            " [ 0.59948235  0.00351015  0.04827532  0.82935157  0.02608633]]\n",
            "B: [[ 0.72156145  0.71474853  0.62502424  0.0853678 ]\n",
            " [ 0.65435541  0.27142659  0.38727475  0.3090901 ]\n",
            " [ 0.33106467  0.00994667  0.58027143  0.54278978]\n",
            " [ 0.75693696  0.45954334  0.24204448  0.15333801]\n",
            " [ 0.88844907  0.32457812  0.98870008  0.71044938]]\n",
            "A+B:\n",
            "[[ 0.90647884  1.40252441  1.20575983  0.68485014]\n",
            " [ 1.23236916  1.15460296  0.39161169  0.31260025]\n",
            " [ 0.467848    0.77353244  1.52180686  0.5910651 ]\n",
            " [ 1.6398289   0.92694204  0.92658954  0.98268957]\n",
            " [ 1.5053782   0.50178959  1.19328418  0.73653571]]\n",
            "A*B:\n",
            "[[ 0.13342926  0.4915868   0.36297382  0.05117649]\n",
            " [ 0.37822642  0.23971755  0.00167959  0.00108495]\n",
            " [ 0.04528413  0.00759513  0.54634611  0.02620335]\n",
            " [ 0.66829354  0.21478996  0.16569035  0.12717112]\n",
            " [ 0.54811011  0.05751897  0.20227231  0.01853302]]\n",
            "Matrix Multiply: A (dot) B1:\n",
            "[[ 1.28809046  0.7851582   0.76344643  0.80428399  1.14940414]\n",
            " [ 0.88598469  0.8545606   0.30755716  0.68453901  0.3060523 ]\n",
            " [ 1.60670467  0.64340257  0.87480078  0.87332119  0.93548652]\n",
            " [ 1.35950097  1.25826861  1.1388577   1.39040769  1.55604728]\n",
            " [ 0.47015059  0.56012855  0.40793208  0.64468686  0.35666725]]\n"
          ],
          "name": "stdout"
        }
      ]
    },
    {
      "cell_type": "markdown",
      "metadata": {
        "deletable": true,
        "editable": true,
        "id": "oxQKERFp61oC",
        "colab_type": "text"
      },
      "source": [
        "## Vector Products\n",
        "\n",
        "* Dot product: $x\\cdot y = x^T y = \\sum_{i=1}^n x_i y_i$\n",
        "* Other product: \n",
        "\\begin{equation*}\n",
        "\\begin{pmatrix} x_1\\\\x_2\\\\ \\vdots \\\\x_m \\end{pmatrix} \\begin{pmatrix} y_1&y_2& \\dots &y_n\\end{pmatrix} =\n",
        "\\begin{pmatrix}\n",
        "x_1y_1 & x_1y_2 & \\dots & x_1y_n\\\\\n",
        "x_2y_1 & x_2y_2 & \\dots & x_2y_n\\\\\n",
        "\\vdots & \\vdots & \\ddots & \\vdots \\\\\n",
        "x_my_1 & x_my_2 & \\dots & x_my_n\n",
        "\\end{pmatrix}\n",
        "\\end{equation*}\n",
        "\n",
        "In `numpy`:"
      ]
    },
    {
      "cell_type": "code",
      "metadata": {
        "deletable": true,
        "editable": true,
        "id": "uHi234de61oD",
        "colab_type": "code",
        "colab": {},
        "outputId": "d04fd901-6ecf-4de2-d80e-bd5a7389be72"
      },
      "source": [
        "x=np.array([1,2,3])\n",
        "y=np.array([4,5,6])\n",
        "\n",
        "print \"x (dot) y:\"\n",
        "print np.dot(x,y)\n",
        "\n",
        "print \"Other product:\"\n",
        "print np.outer(x,y)"
      ],
      "execution_count": 0,
      "outputs": [
        {
          "output_type": "stream",
          "text": [
            "x (dot) y:\n",
            "32\n",
            "Other product:\n",
            "[[ 4  5  6]\n",
            " [ 8 10 12]\n",
            " [12 15 18]]\n"
          ],
          "name": "stdout"
        }
      ]
    },
    {
      "cell_type": "markdown",
      "metadata": {
        "deletable": true,
        "editable": true,
        "id": "qOIHID8o61oG",
        "colab_type": "text"
      },
      "source": [
        "## Norms\n",
        "* $l=1$ Norm: $\\parallel x \\parallel_1 = \\sum_{i=1}^{n}|x_i|$\n",
        "* $l=2$ Norm: $\\parallel x \\parallel_2 = \\sqrt{\\sum_{i=1}^{n}x_i^2}$\n",
        "* $l=p$ Norm: $\\parallel x \\parallel_p = \\left(\\sum_{i=1}^{n}x_i^p\\right)^\\frac{1}{p}$\n",
        "* $l=\\infty$ Norm: $\\parallel x \\parallel_\\infty = \\max_i |x_i|$\n",
        "* Law of cosines: $x \\cdot y = $\\parallel x \\parallel_2 $\\parallel y \\parallel_2 \\cos{\\theta}$\n",
        "\n",
        "In `numpy`:"
      ]
    },
    {
      "cell_type": "code",
      "metadata": {
        "deletable": true,
        "editable": true,
        "id": "EwnjBIi661oH",
        "colab_type": "code",
        "colab": {},
        "outputId": "eb96c6c1-f9f9-4ce6-96f3-a4f7cc9bfd3c"
      },
      "source": [
        "x=[1,2,3]\n",
        "for i in range(10):\n",
        "    print i,np.linalg.norm(x,i)"
      ],
      "execution_count": 0,
      "outputs": [
        {
          "output_type": "stream",
          "text": [
            "0 3.0\n",
            "1 6.0\n",
            "2 3.74165738677\n",
            "3 3.30192724889\n",
            "4 3.14634628365\n",
            "5 3.07738488539\n",
            "6 3.04301026292\n",
            "7 3.02466260095\n",
            "8 3.01444333589\n",
            "9 3.00858868616\n"
          ],
          "name": "stdout"
        }
      ]
    }
  ]
}