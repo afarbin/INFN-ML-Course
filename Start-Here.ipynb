{
  "nbformat": 4,
  "nbformat_minor": 0,
  "metadata": {
    "colab": {
      "name": "Start-Here.ipynb",
      "version": "0.3.2",
      "provenance": [],
      "include_colab_link": true
    },
    "language_info": {
      "codemirror_mode": {
        "name": "ipython",
        "version": 2
      },
      "file_extension": ".py",
      "mimetype": "text/x-python",
      "name": "python",
      "nbconvert_exporter": "python",
      "pygments_lexer": "ipython2",
      "version": "2.7.16"
    },
    "kernelspec": {
      "name": "python2",
      "display_name": "Python 2"
    },
    "accelerator": "GPU"
  },
  "cells": [
    {
      "cell_type": "markdown",
      "metadata": {
        "id": "view-in-github",
        "colab_type": "text"
      },
      "source": [
        "<a href=\"https://colab.research.google.com/github/afarbin/INFN-ML-Course/blob/master/Start-Here.ipynb\" target=\"_parent\"><img src=\"https://colab.research.google.com/assets/colab-badge.svg\" alt=\"Open In Colab\"/></a>"
      ]
    },
    {
      "cell_type": "markdown",
      "metadata": {
        "colab_type": "text",
        "id": "cOVKNujNnNL-"
      },
      "source": [
        "# INFN ML Course: Hands On\n",
        "\n",
        "## Structure of this Hands On\n",
        "\n",
        "This tutorial is targetting HEP researchers with some familarity with Python and aiming to learn enough Data Science, Machine Learning, and Deep Learning to apply the emerging tools and techniques to their research. The tutorial is organized into two threads. The primary thread, contained in this notebook, leads you through a typical HEP problem (a SUSY search with reconstructed objects), utilizing various python-based packages. As each package is introduced, you have an option of jumping to a concurrent thread consisting of notebooks (usually containing \"101\" in the name) that aim to give a brief primer for each package. \n",
        "\n",
        "Note that like most HEP tutorials, there are many sections where you can simply follow the instructions and execute example code like a robot (usualy via copy/paste into a terminal, but in this case using Jupyter notebooks). But this tutorial also aims to teach you key concepts in scientific computing, Machine Learning, and Deep Learning in python through exercises that require you to slow down, think critically, and apply what you read. We encourage you to try to work through the exercises, but you'll notice that you will find solutions in hidden cells for some of the exercises.\n",
        "\n",
        "The tutorial is divided into three sections: \n",
        "\n",
        "A. <a href='#Basics'>Basics</a>\n",
        "   1. <a href='#Jupyter'>Notebooks</a>\n",
        "   2. <a href='#Numpy'>Numpy</a>\n",
        "   3. <a href='#HDF5'>HDF5</a>\n",
        "   \n",
        "B. <a href='#MachineLearning'>MachineLearning</a>\n",
        "   1. <a href='#Dataset'>Dataset</a>\n",
        "   2. <a href='#Pandas'>Pandas</a>\n",
        "   3. <a href='#Scikit-learn'>Scikit-learn</a>\n",
        "\n",
        "C. <a href='#DeepLearning'>DeepLearning</a>\n",
        "   1. <a href='#Keras'>Keras</a>\n"
      ]
    },
    {
      "cell_type": "markdown",
      "metadata": {
        "colab_type": "text",
        "id": "T0h0yUK1nNMQ"
      },
      "source": [
        "<a id='Basics'></a>\n",
        "# A. Basics\n",
        "\n",
        "Data Science in python usually starts with loading data into numpy tensors for manipulation in an interactive python session. While you can run the session in a terminal, interactive notebook systems (e.g. Jupyter) provide a nice web-based alternative environment for data analysis. These environments allow you to combine text, code, and results all in one interactive document in your browser. \n",
        "\n"
      ]
    },
    {
      "cell_type": "markdown",
      "metadata": {
        "colab_type": "text",
        "id": "ZckLZxK3nNMT"
      },
      "source": [
        "<a id='Notebooks'></a>\n",
        "## 1. Python Notebooks\n",
        "\n",
        "We suggest you to use [Google Colab](https://colab.research.google.com), which is a service hosted by Google that gives free access to computing resources (including GPUs) via a custom notebook environment. You can easily run a very similar system on your own laptop or computing resources using [Jupyter](https://jupyter.org).\n",
        "\n",
        "* *An important note about Colab: if the sessions are currently in was spawned off of github, your notebook will be not saved and you will loose everything if you close your browser. The easiest way of persisting your notebooks is to copy them to your Google Drive by pressing the \"COPY TO DRIVE\" button above*. \n",
        "\n",
        "Regardless of Colab vs Jupyter, **what is a Notebook?**\n",
        "\n",
        "Notebooks consist of cells that can hold text or code (usually python). This text that you are reading, was written into a text cell as simple text \"coding\" language known as Markdown. When this cell is run (either automatically at start of the notebook or manually by pressing shift-enter), the Markdown text is interpreted into nice looking text. Running a code cell will execute the code in that cell and give you the results. If you make a mistake, you can usually simply change the cell and re-run. But be aware that since you ran the mistaken cell already, whatever code was properly executed before your mistake/error, was already executed and has therefore changed your current python environment accordingly. In some cases this situation will be problematic, and you will need to rerun the notebook from the start:\n",
        "* in Colab: \"Runtime\" -> \"Restart runtime..\"\n",
        "* in Jupyter: \"Kernel\" -> \"Restart & Clear Output\" (or press the \"reload\" botton, next to the \"stop\" button)\n",
        "\n",
        "You are encouraged to add cells to this notebook (using the \"+\" button(s) on the tool bar) and play around a bit. "
      ]
    },
    {
      "cell_type": "markdown",
      "metadata": {
        "colab_type": "text",
        "id": "kBESF5qnDWmW"
      },
      "source": [
        "## Notebook Basics\n",
        "\n",
        "### Text Cells and Markdown\n",
        "You can write whatever you like into text cells. If you double-click on this cell, you'll be able to edit the Markdown that generates what is displayed once you run a text cell (e.g. using shift-enter). Once editting a cell, Colab gives you some buttons on top to help with formatting of the text. Jupyter usually doesn't. But Markdown is an easy language to master. See [this table](https://en.wikipedia.org/wiki/Markdown#Example) for a table that shows how to format text in Markdown.\n",
        "\n",
        "### Code Cells\n",
        "\n",
        "Whatever code you type into a code cell is executed by the notebook in a common python runtime instance that persists during your session, when you run that cell. For example, select the next cell and press shift-enter:"
      ]
    },
    {
      "cell_type": "code",
      "metadata": {
        "colab_type": "code",
        "id": "MYpqq56EGxwb",
        "outputId": "49381730-90f6-47ad-bdd7-a4a972067659",
        "colab": {
          "base_uri": "https://localhost:8080/",
          "height": 34
        }
      },
      "source": [
        "print \"Hello World\""
      ],
      "execution_count": 2,
      "outputs": [
        {
          "output_type": "stream",
          "text": [
            "Hello World\n"
          ],
          "name": "stdout"
        }
      ]
    },
    {
      "cell_type": "markdown",
      "metadata": {
        "colab_type": "text",
        "id": "Cs8Dwp89Gatc"
      },
      "source": [
        "You can execute shell commands in a code cell by starting a line with an exclamation mark \"!\" (aka \"bang\"). For example"
      ]
    },
    {
      "cell_type": "code",
      "metadata": {
        "colab_type": "code",
        "id": "cnsZ5PkeGZxP",
        "outputId": "701da349-e7dc-4b8d-990d-63c9b9a871c6",
        "colab": {
          "base_uri": "https://localhost:8080/",
          "height": 63
        }
      },
      "source": [
        "!touch A_File\n",
        "!ls "
      ],
      "execution_count": 1,
      "outputs": [
        {
          "output_type": "stream",
          "text": [
            "A_File\tsample_data\n"
          ],
          "name": "stdout"
        }
      ]
    },
    {
      "cell_type": "markdown",
      "metadata": {
        "colab_type": "text",
        "id": "-WFHlxf_HzKT"
      },
      "source": [
        "### Exercise A.1.1\n",
        "\n",
        "Later in this tutorial, we will attempt to follow the first paper on Deep Learning in High Energy physics by P. Baldi, et al. This paper demonstrates that Deep Neural Networks can learn from raw data the features that are typically used by physicists for searches for exotics particles. The authors provide the data they used for this paper. They considered two benchmark scenarios. We will focus on the SUSY benchmark. \n",
        "\n",
        "The dataset is somewhat large and takes time to decompress, so let's download it and decompress it.\n",
        "\n",
        "Execute the following cell to use `wget` to download and decompress the data from the [UCI Machine Learning Repository](https://archive.ics.uci.edu/ml/index.php). If you are running in Google Drive, the data will be downloaded there. \n",
        "\n",
        "\n",
        "* for Colab: Colab runs on the cloud, so the cell below is downloading data from UCI ML repo to the disk node of a Google VM on which you are now connected. Details (RAM, Disk) of your VM in the top-right corner of this notebook. Speed-wise, it may go at 40ish MB/s. The overall file size is about 800 MB.\n",
        "\n",
        "* It takes about a minute to decompress the file, so be patient."
      ]
    },
    {
      "cell_type": "markdown",
      "metadata": {
        "id": "i87qV4aANDh1",
        "colab_type": "text"
      },
      "source": [
        "<div class=\"alert alert-block alert-info\">\n",
        "IMPORTANT: Note that you should RUN THIS CELL ONLY ONCE! So we recommend, after you have done, that you comment out the contents of the cell (using hash marks \"#\" on each line) to avoid redownloading the data by mistake, or every time you run this notebook in its entirety.\n",
        "</div>"
      ]
    },
    {
      "cell_type": "code",
      "metadata": {
        "colab_type": "code",
        "id": "zCYgkxBIDKWK",
        "outputId": "8f46ab3b-f425-4751-851b-2a27be0def2e",
        "colab": {
          "base_uri": "https://localhost:8080/",
          "height": 250
        }
      },
      "source": [
        "# On MacOS:\n",
        "#!curl http://archive.ics.uci.edu/ml/machine-learning-databases/00279/SUSY.csv.gz > SUSY.csv.gz\n",
        "\n",
        "# Elsewhere:\n",
        "!wget http://archive.ics.uci.edu/ml/machine-learning-databases/00279/SUSY.csv.gz\n",
        "  \n",
        "!gunzip SUSY.csv.gz\n",
        "\n",
        "!ls\n"
      ],
      "execution_count": 5,
      "outputs": [
        {
          "output_type": "stream",
          "text": [
            "--2019-05-20 08:00:53--  http://archive.ics.uci.edu/ml/machine-learning-databases/00279/SUSY.csv.gz\n",
            "Resolving archive.ics.uci.edu (archive.ics.uci.edu)... 128.195.10.252\n",
            "Connecting to archive.ics.uci.edu (archive.ics.uci.edu)|128.195.10.252|:80... connected.\n",
            "HTTP request sent, awaiting response... 200 OK\n",
            "Length: 922377711 (880M) [application/x-httpd-php]\n",
            "Saving to: ‘SUSY.csv.gz’\n",
            "\n",
            "SUSY.csv.gz         100%[===================>] 879.65M  21.0MB/s    in 43s     \n",
            "\n",
            "2019-05-20 08:01:37 (20.3 MB/s) - ‘SUSY.csv.gz’ saved [922377711/922377711]\n",
            "\n",
            "sample_data  SUSY.csv\n"
          ],
          "name": "stdout"
        }
      ]
    },
    {
      "cell_type": "markdown",
      "metadata": {
        "colab_type": "text",
        "id": "sVk6MfosKFre"
      },
      "source": [
        "You can look at the contents of the file using the unix `head` command and count the number of lines using the unix `wc` command:"
      ]
    },
    {
      "cell_type": "code",
      "metadata": {
        "colab_type": "code",
        "id": "TUoEy55dKNLi",
        "outputId": "af87769f-079b-4b80-e198-d181b70e8095",
        "colab": {
          "base_uri": "https://localhost:8080/",
          "height": 186
        }
      },
      "source": [
        "!head -5 SUSY.csv\n",
        "!wc -l SUSY.csv\n"
      ],
      "execution_count": 4,
      "outputs": [
        {
          "output_type": "stream",
          "text": [
            "0.000000000000000000e+00,9.728614687919616699e-01,6.538545489311218262e-01,1.176224589347839355e+00,1.157156467437744141e+00,-1.739873170852661133e+00,-8.743090629577636719e-01,5.677649974822998047e-01,-1.750000417232513428e-01,8.100607395172119141e-01,-2.525521218776702881e-01,1.921887040138244629e+00,8.896374106407165527e-01,4.107718467712402344e-01,1.145620822906494141e+00,1.932632088661193848e+00,9.944640994071960449e-01,1.367815494537353516e+00,4.071449860930442810e-02\n",
            "1.000000000000000000e+00,1.667973041534423828e+00,6.419061869382858276e-02,-1.225171446800231934e+00,5.061022043228149414e-01,-3.389389812946319580e-01,1.672542810440063477e+00,3.475464344024658203e+00,-1.219136357307434082e+00,1.295456290245056152e-02,3.775173664093017578e+00,1.045977115631103516e+00,5.680512785911560059e-01,4.819284379482269287e-01,0.000000000000000000e+00,4.484102725982666016e-01,2.053557634353637695e-01,1.321893453598022461e+00,3.775840103626251221e-01\n",
            "1.000000000000000000e+00,4.448399245738983154e-01,-1.342980116605758667e-01,-7.099716067314147949e-01,4.517189264297485352e-01,-1.613871216773986816e+00,-7.686609029769897461e-01,1.219918131828308105e+00,5.040258169174194336e-01,1.831247568130493164e+00,-4.313853085041046143e-01,5.262832045555114746e-01,9.415140151977539062e-01,1.587535023689270020e+00,2.024308204650878906e+00,6.034975647926330566e-01,1.562373995780944824e+00,1.135454416275024414e+00,1.809100061655044556e-01\n",
            "1.000000000000000000e+00,3.812560737133026123e-01,-9.761453866958618164e-01,6.931523084640502930e-01,4.489588439464569092e-01,8.917528986930847168e-01,-6.773284673690795898e-01,2.033060073852539062e+00,1.533040523529052734e+00,3.046259880065917969e+00,-1.005284786224365234e+00,5.693860650062561035e-01,1.015211343765258789e+00,1.582216739654541016e+00,1.551914215087890625e+00,7.612152099609375000e-01,1.715463757514953613e+00,1.492256760597229004e+00,9.071890264749526978e-02\n",
            "1.000000000000000000e+00,1.309996485710144043e+00,-6.900894641876220703e-01,-6.762592792510986328e-01,1.589282631874084473e+00,-6.933256387710571289e-01,6.229069828987121582e-01,1.087561845779418945e+00,-3.817416727542877197e-01,5.892043709754943848e-01,1.365478992462158203e+00,1.179295063018798828e+00,9.682182073593139648e-01,7.285631299018859863e-01,0.000000000000000000e+00,1.083157896995544434e+00,4.342924803495407104e-02,1.154853701591491699e+00,9.485860168933868408e-02\n",
            "5000000 SUSY.csv\n"
          ],
          "name": "stdout"
        }
      ]
    },
    {
      "cell_type": "markdown",
      "metadata": {
        "colab_type": "text",
        "id": "U-j5_WP7Jfg8"
      },
      "source": [
        "### Exercise A.1.2\n",
        "\n",
        "The SUSY dataset has 5 million examples (events), which is unnecessarily big for most of the ML algorithms we will be training. Use the unix `head` command and shell redirection to create a smaller file called \"SUSY-small.csv\" of 500,000 events."
      ]
    },
    {
      "cell_type": "code",
      "metadata": {
        "colab_type": "code",
        "id": "cTghayNfKaTT",
        "colab": {}
      },
      "source": [
        "# Your solution here"
      ],
      "execution_count": 0,
      "outputs": []
    },
    {
      "cell_type": "code",
      "metadata": {
        "cellView": "form",
        "colab_type": "code",
        "id": "QDkopTo3Kby_",
        "outputId": "1c81259a-f6d8-48dc-e848-3b99303ab67c",
        "colab": {
          "base_uri": "https://localhost:8080/",
          "height": 63
        }
      },
      "source": [
        "#@title\n",
        "!head -500000 SUSY.csv > SUSY-small.csv\n",
        "!wc -l SUSY-small.csv"
      ],
      "execution_count": 6,
      "outputs": [
        {
          "output_type": "stream",
          "text": [
            "500000 SUSY-small.csv\n"
          ],
          "name": "stdout"
        }
      ]
    },
    {
      "cell_type": "markdown",
      "metadata": {
        "colab_type": "text",
        "id": "0s_3ehv5nNM4"
      },
      "source": [
        "<a id='Numpy'></a>\n",
        "## 2. Numpy\n",
        "\n",
        "We are assuming that you have some familarity with python. If not, quickly go through [python 101](https://github.com/afarbin/INFN-ML-Course/blob/master/notebooks/Python-101.ipynb).\n",
        "\n",
        "[Numpy](http://www.numpy.org) is the tensor manipulation package most commonly used in python-based scientific computing. Numpy tensor interface is also adopted by all packages that provide tensors (e.g. h5py, theano, TensorFlow, ...). You can use numpy as a Linear Algebra package like Matlab. Take a quick read of [Linear Algebra with Numpy](https://github.com/afarbin/INFN-ML-Course/blob/master/Numpy-Linear-Algebra.ipynb) to familiarize yourself with numpy.\n",
        "\n",
        "The size of a `numpy` tensor is encapsulated in its \"shape\" which is a tuple with length corresponding to the tensor's rank and each element specifying the size of each dimension. For example a tensor with shape (3,3) is a 3-by-3 matrix. \n",
        "\n",
        "Here's an example:"
      ]
    },
    {
      "cell_type": "code",
      "metadata": {
        "colab_type": "code",
        "id": "Lvf3v-w39UFa",
        "outputId": "01bdd81e-2462-4879-ba9c-5985aa66478d",
        "colab": {
          "base_uri": "https://localhost:8080/",
          "height": 102
        }
      },
      "source": [
        "import numpy as np\n",
        "\n",
        "A= np.array([[ 1, 2, 3, 4], [ 5, 6, 7, 8], [ 9, 10, 11, 12]])\n",
        "\n",
        "print \"A = \",A\n",
        "\n",
        "print \"Shape of A \", A.shape\n",
        "\n",
        "print \"Length of shape of A \", len(A.shape)"
      ],
      "execution_count": 7,
      "outputs": [
        {
          "output_type": "stream",
          "text": [
            "A =  [[ 1  2  3  4]\n",
            " [ 5  6  7  8]\n",
            " [ 9 10 11 12]]\n",
            "Shape of A  (3, 4)\n",
            "Length of shape of A  2\n"
          ],
          "name": "stdout"
        }
      ]
    },
    {
      "cell_type": "markdown",
      "metadata": {
        "colab_type": "text",
        "id": "A_klUeRr_KUt"
      },
      "source": [
        "And some examples of tensor manipulations that will help you with the exercises below:"
      ]
    },
    {
      "cell_type": "code",
      "metadata": {
        "colab_type": "code",
        "id": "HJvM7U-U_WLL",
        "outputId": "3e821a1a-2e09-493a-dc36-1df05c19c03f",
        "colab": {
          "base_uri": "https://localhost:8080/",
          "height": 408
        }
      },
      "source": [
        "print \"Transpose of A:\"\n",
        "print A.transpose()\n",
        "\n",
        "B = A.reshape(2,6)\n",
        "\n",
        "print \"A reshaped into tensor B with shape (2,6):\"\n",
        "print B\n",
        "\n",
        "print \"Sum of A:\", np.sum(A)\n",
        "\n",
        "print \"Sum of A along axis 0:\"\n",
        "print np.sum(A,axis=0)\n",
        "\n",
        "print \"Sum of A along axis 1:\"\n",
        "print np.sum(A,axis=1)\n",
        "\n",
        "print \"Mean of B along axis 1:\"\n",
        "print np.mean(B,axis=1)\n",
        "\n",
        "print \"Multply A by a constant (2):\"\n",
        "print 2*A\n",
        "\n",
        "print \"Add constant 1 to every element of A:\"\n",
        "print A+1"
      ],
      "execution_count": 8,
      "outputs": [
        {
          "output_type": "stream",
          "text": [
            "Transpose of A:\n",
            "[[ 1  5  9]\n",
            " [ 2  6 10]\n",
            " [ 3  7 11]\n",
            " [ 4  8 12]]\n",
            "A reshaped into tensor B with shape (2,6):\n",
            "[[ 1  2  3  4  5  6]\n",
            " [ 7  8  9 10 11 12]]\n",
            "Sum of A: 78\n",
            "Sum of A along axis 0:\n",
            "[15 18 21 24]\n",
            "Sum of A along axis 1:\n",
            "[10 26 42]\n",
            "Mean of B along axis 1:\n",
            "[3.5 9.5]\n",
            "Multply A by a constant (2):\n",
            "[[ 2  4  6  8]\n",
            " [10 12 14 16]\n",
            " [18 20 22 24]]\n",
            "Add constant 1 to every element of A:\n",
            "[[ 2  3  4  5]\n",
            " [ 6  7  8  9]\n",
            " [10 11 12 13]]\n"
          ],
          "name": "stdout"
        }
      ]
    },
    {
      "cell_type": "markdown",
      "metadata": {
        "colab_type": "text",
        "id": "97e1Hl2B9ONa"
      },
      "source": [
        "\n",
        "For more examples of creating and manipulating `numpy` tensors, go through the [numpy 101](https://github.com/afarbin/INFN-ML-Course/blob/master/notebooks/Numpy-101.ipynb) if you like."
      ]
    },
    {
      "cell_type": "markdown",
      "metadata": {
        "colab_type": "text",
        "id": "HpUew_smnNM5"
      },
      "source": [
        "### Exercise A.2.1\n",
        "\n",
        "Lets start with some basic reshape manipulations. Consider a classification task. We can imagine the training data X consisting of N examples each with M inputs, so the shape of X is (M,N). The output of the Neural Network for the training sample encodes the true class of each of the N examples in X, in a \"one-hot\" matrix of shape (N,C), where C is the number of classes and each row corresponds to the true class for the corresponding example in X. So for a given row Y[i], all elements are 0 except for the column corresponding to the true class.\n",
        "\n",
        "For example consider a classification task of separating between 4 classes. We'll call them A, B, C, and D.\n"
      ]
    },
    {
      "cell_type": "code",
      "metadata": {
        "colab_type": "code",
        "id": "JIUozFMmnNM6",
        "colab": {
          "base_uri": "https://localhost:8080/",
          "height": 34
        },
        "outputId": "744d642a-8a79-4171-9542-84c5fefe1c43"
      },
      "source": [
        "\n",
        "Y=np.array( [ [0, 1, 0, 0], # Class B\n",
        "              [1, 0, 0, 0], # Class A\n",
        "              [0, 0, 0, 1], # Class C\n",
        "              [0, 0, 1, 0]  # Class D\n",
        "            ])\n",
        "\n",
        "print \"Shape of Y:\", Y.shape"
      ],
      "execution_count": 9,
      "outputs": [
        {
          "output_type": "stream",
          "text": [
            "Shape of Y: (4, 4)\n"
          ],
          "name": "stdout"
        }
      ]
    },
    {
      "cell_type": "markdown",
      "metadata": {
        "colab_type": "text",
        "id": "m7tZxUcVnNM9"
      },
      "source": [
        "Lets imagine that we want to change to 2 classes instead by combining classes A with B and C with D. Use `np.reshape`, `np.sum`, and possibly `np.transpose` to create a new vector Y1. Hint: change the shape of Y into (8,2), sum along the correct axes, and change shape to (4,2). "
      ]
    },
    {
      "cell_type": "code",
      "metadata": {
        "colab_type": "code",
        "id": "oBkIqydXAnBQ",
        "colab": {}
      },
      "source": [
        "# Your solution here"
      ],
      "execution_count": 0,
      "outputs": []
    },
    {
      "cell_type": "code",
      "metadata": {
        "cellView": "form",
        "colab_type": "code",
        "id": "reGOgGtVnNM-",
        "colab": {
          "base_uri": "https://localhost:8080/",
          "height": 306
        },
        "outputId": "e0263fcf-7686-4733-f923-784a6efb8db1"
      },
      "source": [
        "#@title\n",
        "print \"Transpose:\", np.transpose(Y)\n",
        "print \"Reshape 8,2:\", np.transpose(Y).reshape((8,2))\n",
        "print \"Sum:\", np.sum(np.transpose(Y).reshape((8,2)),axis=1)\n",
        "\n",
        "Y1= np.sum(np.transpose(Y)\n",
        "           .reshape((8,2)),axis=1).reshape(4,2)\n",
        "print \"Answer: \",Y1"
      ],
      "execution_count": 11,
      "outputs": [
        {
          "output_type": "stream",
          "text": [
            "Transpose: [[0 1 0 0]\n",
            " [1 0 0 0]\n",
            " [0 0 0 1]\n",
            " [0 0 1 0]]\n",
            "Reshape 8,2: [[0 1]\n",
            " [0 0]\n",
            " [1 0]\n",
            " [0 0]\n",
            " [0 0]\n",
            " [0 1]\n",
            " [0 0]\n",
            " [1 0]]\n",
            "Sum: [1 0 1 0 0 1 0 1]\n",
            "Answer:  [[1 0]\n",
            " [1 0]\n",
            " [0 1]\n",
            " [0 1]]\n"
          ],
          "name": "stdout"
        }
      ]
    },
    {
      "cell_type": "markdown",
      "metadata": {
        "colab_type": "text",
        "id": "95L3lXh6nNNB"
      },
      "source": [
        "### Exercise A.2.2\n",
        "\n",
        "Oftentimes we find that neutral networks work best when their input is mostly between 0 and 1. Below, we create a random dataset that is normal distributed (mean of 4, sigma of 10). Shift the data so that the mean is 0.5 and 68% of the data lies between 0 and 1. "
      ]
    },
    {
      "cell_type": "code",
      "metadata": {
        "colab_type": "code",
        "id": "cLyzLT9AnNNC",
        "colab": {
          "base_uri": "https://localhost:8080/",
          "height": 85
        },
        "outputId": "88862800-621d-4177-af10-ae00321e3b0e"
      },
      "source": [
        "X=np.random.normal(4,10,1000)\n",
        "print np.mean(X)\n",
        "print np.min(X)\n",
        "print np.max(X)\n",
        "print np.var(X)"
      ],
      "execution_count": 12,
      "outputs": [
        {
          "output_type": "stream",
          "text": [
            "3.56474604458171\n",
            "-32.801861019406424\n",
            "35.660732693083325\n",
            "92.59001854191003\n"
          ],
          "name": "stdout"
        }
      ]
    },
    {
      "cell_type": "code",
      "metadata": {
        "colab_type": "code",
        "id": "L4JFKu3HCHhT",
        "colab": {}
      },
      "source": [
        "# Your solution here"
      ],
      "execution_count": 0,
      "outputs": []
    },
    {
      "cell_type": "code",
      "metadata": {
        "cellView": "form",
        "colab_type": "code",
        "id": "rVqaqawanNNE",
        "colab": {
          "base_uri": "https://localhost:8080/",
          "height": 51
        },
        "outputId": "a4247d9f-fa35-44bf-867d-7d56f24697db"
      },
      "source": [
        "#@title\n",
        "import math\n",
        "X1=(X-np.mean(X))/math.sqrt(np.var(X)) # Replace X with your answer\n",
        "\n",
        "print np.mean(X1)\n",
        "print np.var(X1)"
      ],
      "execution_count": 14,
      "outputs": [
        {
          "output_type": "stream",
          "text": [
            "3.552713678800501e-17\n",
            "1.0\n"
          ],
          "name": "stdout"
        }
      ]
    },
    {
      "cell_type": "markdown",
      "metadata": {
        "colab_type": "text",
        "id": "NYXTCVDxnNNK"
      },
      "source": [
        "<a id='MachineLearning'></a>\n",
        "# B. Machine Learning\n",
        "\n",
        "For the remainder of this tutorial, we will attempt to follow the first paper on Deep Learning in High Energy physics [P. Baldi, et al](https://arxiv.org/pdf/1402.4735.pdf). This paper demonstrates that Deep Neural Networks can learn from raw data the features that are typically used for searches for exotics particles. The authors publically provide the two benchmark scenarios considered in the paper. We will focus on the SUSY benchmark. \n",
        "\n",
        "<a id='Dataset'></a>\n",
        "## 1. The Dataset\n",
        "\n",
        "The data is distributed as a comma separated values (CSV) file:"
      ]
    },
    {
      "cell_type": "code",
      "metadata": {
        "colab_type": "code",
        "id": "5vWsWNgUnNNL",
        "outputId": "f39bd8b3-9283-4b25-d100-7b36b739376d",
        "colab": {
          "base_uri": "https://localhost:8080/",
          "height": 161
        }
      },
      "source": [
        "# print out the first 5 lines using unix head command (note in jupyter ! => shell command)\n",
        "SUSY_filename=\"SUSY-small.csv\"\n",
        "!head -5 $SUSY_filename"
      ],
      "execution_count": 15,
      "outputs": [
        {
          "output_type": "stream",
          "text": [
            "0.000000000000000000e+00,9.728614687919616699e-01,6.538545489311218262e-01,1.176224589347839355e+00,1.157156467437744141e+00,-1.739873170852661133e+00,-8.743090629577636719e-01,5.677649974822998047e-01,-1.750000417232513428e-01,8.100607395172119141e-01,-2.525521218776702881e-01,1.921887040138244629e+00,8.896374106407165527e-01,4.107718467712402344e-01,1.145620822906494141e+00,1.932632088661193848e+00,9.944640994071960449e-01,1.367815494537353516e+00,4.071449860930442810e-02\n",
            "1.000000000000000000e+00,1.667973041534423828e+00,6.419061869382858276e-02,-1.225171446800231934e+00,5.061022043228149414e-01,-3.389389812946319580e-01,1.672542810440063477e+00,3.475464344024658203e+00,-1.219136357307434082e+00,1.295456290245056152e-02,3.775173664093017578e+00,1.045977115631103516e+00,5.680512785911560059e-01,4.819284379482269287e-01,0.000000000000000000e+00,4.484102725982666016e-01,2.053557634353637695e-01,1.321893453598022461e+00,3.775840103626251221e-01\n",
            "1.000000000000000000e+00,4.448399245738983154e-01,-1.342980116605758667e-01,-7.099716067314147949e-01,4.517189264297485352e-01,-1.613871216773986816e+00,-7.686609029769897461e-01,1.219918131828308105e+00,5.040258169174194336e-01,1.831247568130493164e+00,-4.313853085041046143e-01,5.262832045555114746e-01,9.415140151977539062e-01,1.587535023689270020e+00,2.024308204650878906e+00,6.034975647926330566e-01,1.562373995780944824e+00,1.135454416275024414e+00,1.809100061655044556e-01\n",
            "1.000000000000000000e+00,3.812560737133026123e-01,-9.761453866958618164e-01,6.931523084640502930e-01,4.489588439464569092e-01,8.917528986930847168e-01,-6.773284673690795898e-01,2.033060073852539062e+00,1.533040523529052734e+00,3.046259880065917969e+00,-1.005284786224365234e+00,5.693860650062561035e-01,1.015211343765258789e+00,1.582216739654541016e+00,1.551914215087890625e+00,7.612152099609375000e-01,1.715463757514953613e+00,1.492256760597229004e+00,9.071890264749526978e-02\n",
            "1.000000000000000000e+00,1.309996485710144043e+00,-6.900894641876220703e-01,-6.762592792510986328e-01,1.589282631874084473e+00,-6.933256387710571289e-01,6.229069828987121582e-01,1.087561845779418945e+00,-3.817416727542877197e-01,5.892043709754943848e-01,1.365478992462158203e+00,1.179295063018798828e+00,9.682182073593139648e-01,7.285631299018859863e-01,0.000000000000000000e+00,1.083157896995544434e+00,4.342924803495407104e-02,1.154853701591491699e+00,9.485860168933868408e-02\n"
          ],
          "name": "stdout"
        }
      ]
    },
    {
      "cell_type": "markdown",
      "metadata": {
        "colab_type": "text",
        "id": "YSGGkeNunNNP"
      },
      "source": [
        "Each row represents a LHC collision event. Each column contains some observable from that event. The variable names are:"
      ]
    },
    {
      "cell_type": "code",
      "metadata": {
        "colab_type": "code",
        "id": "PRZR6LqOnNNR",
        "colab": {}
      },
      "source": [
        "VarNames=[\"signal\", \"l_1_pT\", \"l_1_eta\",\"l_1_phi\", \"l_2_pT\", \"l_2_eta\", \"l_2_phi\", \"MET\", \"MET_phi\", \"MET_rel\", \"axial_MET\", \"M_R\", \"M_TR_2\", \"R\", \"MT2\", \"S_R\", \"M_Delta_R\", \"dPhi_r_b\", \"cos_theta_r1\"]"
      ],
      "execution_count": 0,
      "outputs": []
    },
    {
      "cell_type": "markdown",
      "metadata": {
        "colab_type": "text",
        "id": "v1rVvj1JnNNU"
      },
      "source": [
        "Some of these variables represent the \"raw\" kinematics of the observed final state particles, while others are \"features\" that are derived from these raw quantities:"
      ]
    },
    {
      "cell_type": "code",
      "metadata": {
        "colab_type": "code",
        "id": "ouIdBpKFnNNV",
        "colab": {}
      },
      "source": [
        "RawNames=[\"l_1_pT\", \"l_1_eta\",\"l_1_phi\", \"l_2_pT\", \"l_2_eta\", \"l_2_phi\"]\n",
        "FeatureNames=[ \"MET\", \"MET_phi\", \"MET_rel\", \"axial_MET\", \"M_R\", \"M_TR_2\", \"R\", \"MT2\", \"S_R\", \"M_Delta_R\", \"dPhi_r_b\", \"cos_theta_r1\"]"
      ],
      "execution_count": 0,
      "outputs": []
    },
    {
      "cell_type": "markdown",
      "metadata": {
        "colab_type": "text",
        "id": "e73g2Lr2nNNX"
      },
      "source": [
        "<a id='Pandas'></a>\n",
        "## 2. Pandas\n",
        "\n",
        "CSV is a common data format in Data Science, and there are lots of tools for loading them into memory in python. For a walk-through of some of these tools, please go through [Data Preparation Load Dataset notebook](https://github.com/afarbin/INFN-ML-Course/blob/master/DataPreparation__LoadDataset.ipynb).\n",
        "\n",
        "We will use [pandas](http://pandas.pydata.org) to read in the file, and [matplotlib](https://matplotlib.org) to make plots. Pandas provides \"data structures and data analysis tools for the Python Programming Language\". Pandas is a powerful library with lots of features, but for us here, pandas just makes it very easy to read a CSV file.\n",
        "\n",
        "The following ensures pandas is installed and sets everything up:"
      ]
    },
    {
      "cell_type": "code",
      "metadata": {
        "colab_type": "code",
        "id": "jR4luur-nNNY",
        "colab": {}
      },
      "source": [
        "import pandas as pd\n",
        "import matplotlib.pyplot as plt\n",
        "%matplotlib inline"
      ],
      "execution_count": 0,
      "outputs": []
    },
    {
      "cell_type": "markdown",
      "metadata": {
        "colab_type": "text",
        "id": "mb7SQudNnNNa"
      },
      "source": [
        "Now we can read the data into a pandas dataframe. It's a ~GB file, so be patient."
      ]
    },
    {
      "cell_type": "code",
      "metadata": {
        "colab_type": "code",
        "id": "rBghUbCcnNNa",
        "colab": {}
      },
      "source": [
        "df = pd.read_csv(SUSY_filename, dtype='float64', names=VarNames)"
      ],
      "execution_count": 0,
      "outputs": []
    },
    {
      "cell_type": "markdown",
      "metadata": {
        "colab_type": "text",
        "id": "5vaKEl89nNNc"
      },
      "source": [
        "Another nice feature of pandas is that you can see the data in Jupyter by just evaluating the dataframe:"
      ]
    },
    {
      "cell_type": "code",
      "metadata": {
        "colab_type": "code",
        "id": "72sprSXvnNNc",
        "scrolled": true,
        "colab": {
          "base_uri": "https://localhost:8080/",
          "height": 1989
        },
        "outputId": "0e0c936d-ef70-498f-8bca-c5bea940242b"
      },
      "source": [
        "df"
      ],
      "execution_count": 20,
      "outputs": [
        {
          "output_type": "execute_result",
          "data": {
            "text/html": [
              "<div>\n",
              "<style scoped>\n",
              "    .dataframe tbody tr th:only-of-type {\n",
              "        vertical-align: middle;\n",
              "    }\n",
              "\n",
              "    .dataframe tbody tr th {\n",
              "        vertical-align: top;\n",
              "    }\n",
              "\n",
              "    .dataframe thead th {\n",
              "        text-align: right;\n",
              "    }\n",
              "</style>\n",
              "<table border=\"1\" class=\"dataframe\">\n",
              "  <thead>\n",
              "    <tr style=\"text-align: right;\">\n",
              "      <th></th>\n",
              "      <th>signal</th>\n",
              "      <th>l_1_pT</th>\n",
              "      <th>l_1_eta</th>\n",
              "      <th>l_1_phi</th>\n",
              "      <th>l_2_pT</th>\n",
              "      <th>l_2_eta</th>\n",
              "      <th>l_2_phi</th>\n",
              "      <th>MET</th>\n",
              "      <th>MET_phi</th>\n",
              "      <th>MET_rel</th>\n",
              "      <th>axial_MET</th>\n",
              "      <th>M_R</th>\n",
              "      <th>M_TR_2</th>\n",
              "      <th>R</th>\n",
              "      <th>MT2</th>\n",
              "      <th>S_R</th>\n",
              "      <th>M_Delta_R</th>\n",
              "      <th>dPhi_r_b</th>\n",
              "      <th>cos_theta_r1</th>\n",
              "    </tr>\n",
              "  </thead>\n",
              "  <tbody>\n",
              "    <tr>\n",
              "      <th>0</th>\n",
              "      <td>0.0</td>\n",
              "      <td>0.972861</td>\n",
              "      <td>0.653855</td>\n",
              "      <td>1.176225</td>\n",
              "      <td>1.157156</td>\n",
              "      <td>-1.739873</td>\n",
              "      <td>-0.874309</td>\n",
              "      <td>0.567765</td>\n",
              "      <td>-0.175000</td>\n",
              "      <td>0.810061</td>\n",
              "      <td>-0.252552</td>\n",
              "      <td>1.921887</td>\n",
              "      <td>0.889637</td>\n",
              "      <td>0.410772</td>\n",
              "      <td>1.145621</td>\n",
              "      <td>1.932632</td>\n",
              "      <td>0.994464</td>\n",
              "      <td>1.367815</td>\n",
              "      <td>0.040714</td>\n",
              "    </tr>\n",
              "    <tr>\n",
              "      <th>1</th>\n",
              "      <td>1.0</td>\n",
              "      <td>1.667973</td>\n",
              "      <td>0.064191</td>\n",
              "      <td>-1.225171</td>\n",
              "      <td>0.506102</td>\n",
              "      <td>-0.338939</td>\n",
              "      <td>1.672543</td>\n",
              "      <td>3.475464</td>\n",
              "      <td>-1.219136</td>\n",
              "      <td>0.012955</td>\n",
              "      <td>3.775174</td>\n",
              "      <td>1.045977</td>\n",
              "      <td>0.568051</td>\n",
              "      <td>0.481928</td>\n",
              "      <td>0.000000</td>\n",
              "      <td>0.448410</td>\n",
              "      <td>0.205356</td>\n",
              "      <td>1.321893</td>\n",
              "      <td>0.377584</td>\n",
              "    </tr>\n",
              "    <tr>\n",
              "      <th>2</th>\n",
              "      <td>1.0</td>\n",
              "      <td>0.444840</td>\n",
              "      <td>-0.134298</td>\n",
              "      <td>-0.709972</td>\n",
              "      <td>0.451719</td>\n",
              "      <td>-1.613871</td>\n",
              "      <td>-0.768661</td>\n",
              "      <td>1.219918</td>\n",
              "      <td>0.504026</td>\n",
              "      <td>1.831248</td>\n",
              "      <td>-0.431385</td>\n",
              "      <td>0.526283</td>\n",
              "      <td>0.941514</td>\n",
              "      <td>1.587535</td>\n",
              "      <td>2.024308</td>\n",
              "      <td>0.603498</td>\n",
              "      <td>1.562374</td>\n",
              "      <td>1.135454</td>\n",
              "      <td>0.180910</td>\n",
              "    </tr>\n",
              "    <tr>\n",
              "      <th>3</th>\n",
              "      <td>1.0</td>\n",
              "      <td>0.381256</td>\n",
              "      <td>-0.976145</td>\n",
              "      <td>0.693152</td>\n",
              "      <td>0.448959</td>\n",
              "      <td>0.891753</td>\n",
              "      <td>-0.677328</td>\n",
              "      <td>2.033060</td>\n",
              "      <td>1.533041</td>\n",
              "      <td>3.046260</td>\n",
              "      <td>-1.005285</td>\n",
              "      <td>0.569386</td>\n",
              "      <td>1.015211</td>\n",
              "      <td>1.582217</td>\n",
              "      <td>1.551914</td>\n",
              "      <td>0.761215</td>\n",
              "      <td>1.715464</td>\n",
              "      <td>1.492257</td>\n",
              "      <td>0.090719</td>\n",
              "    </tr>\n",
              "    <tr>\n",
              "      <th>4</th>\n",
              "      <td>1.0</td>\n",
              "      <td>1.309996</td>\n",
              "      <td>-0.690089</td>\n",
              "      <td>-0.676259</td>\n",
              "      <td>1.589283</td>\n",
              "      <td>-0.693326</td>\n",
              "      <td>0.622907</td>\n",
              "      <td>1.087562</td>\n",
              "      <td>-0.381742</td>\n",
              "      <td>0.589204</td>\n",
              "      <td>1.365479</td>\n",
              "      <td>1.179295</td>\n",
              "      <td>0.968218</td>\n",
              "      <td>0.728563</td>\n",
              "      <td>0.000000</td>\n",
              "      <td>1.083158</td>\n",
              "      <td>0.043429</td>\n",
              "      <td>1.154854</td>\n",
              "      <td>0.094859</td>\n",
              "    </tr>\n",
              "    <tr>\n",
              "      <th>5</th>\n",
              "      <td>0.0</td>\n",
              "      <td>0.456398</td>\n",
              "      <td>1.099371</td>\n",
              "      <td>1.512453</td>\n",
              "      <td>0.751772</td>\n",
              "      <td>0.638967</td>\n",
              "      <td>-0.742216</td>\n",
              "      <td>0.322601</td>\n",
              "      <td>1.321054</td>\n",
              "      <td>0.169502</td>\n",
              "      <td>0.359941</td>\n",
              "      <td>0.489256</td>\n",
              "      <td>0.416168</td>\n",
              "      <td>0.754829</td>\n",
              "      <td>0.303750</td>\n",
              "      <td>0.461067</td>\n",
              "      <td>0.345541</td>\n",
              "      <td>0.733242</td>\n",
              "      <td>0.186044</td>\n",
              "    </tr>\n",
              "    <tr>\n",
              "      <th>6</th>\n",
              "      <td>0.0</td>\n",
              "      <td>0.437818</td>\n",
              "      <td>-1.119883</td>\n",
              "      <td>-1.336823</td>\n",
              "      <td>0.502320</td>\n",
              "      <td>-1.717515</td>\n",
              "      <td>1.017067</td>\n",
              "      <td>0.215619</td>\n",
              "      <td>-0.461200</td>\n",
              "      <td>0.323671</td>\n",
              "      <td>0.173626</td>\n",
              "      <td>0.411898</td>\n",
              "      <td>0.370525</td>\n",
              "      <td>0.798260</td>\n",
              "      <td>0.671369</td>\n",
              "      <td>0.385910</td>\n",
              "      <td>0.515522</td>\n",
              "      <td>0.479110</td>\n",
              "      <td>0.029058</td>\n",
              "    </tr>\n",
              "    <tr>\n",
              "      <th>7</th>\n",
              "      <td>0.0</td>\n",
              "      <td>0.571656</td>\n",
              "      <td>0.205696</td>\n",
              "      <td>0.425950</td>\n",
              "      <td>0.578514</td>\n",
              "      <td>0.927399</td>\n",
              "      <td>-1.101478</td>\n",
              "      <td>0.116555</td>\n",
              "      <td>1.549753</td>\n",
              "      <td>0.174421</td>\n",
              "      <td>0.223450</td>\n",
              "      <td>0.523164</td>\n",
              "      <td>0.289889</td>\n",
              "      <td>0.491710</td>\n",
              "      <td>0.334593</td>\n",
              "      <td>0.514246</td>\n",
              "      <td>0.268207</td>\n",
              "      <td>0.315795</td>\n",
              "      <td>0.125728</td>\n",
              "    </tr>\n",
              "    <tr>\n",
              "      <th>8</th>\n",
              "      <td>1.0</td>\n",
              "      <td>2.112812</td>\n",
              "      <td>0.742983</td>\n",
              "      <td>-0.330539</td>\n",
              "      <td>0.805253</td>\n",
              "      <td>-0.028887</td>\n",
              "      <td>-1.446679</td>\n",
              "      <td>2.299946</td>\n",
              "      <td>1.450429</td>\n",
              "      <td>2.989110</td>\n",
              "      <td>-1.894770</td>\n",
              "      <td>1.445125</td>\n",
              "      <td>2.548166</td>\n",
              "      <td>1.564721</td>\n",
              "      <td>2.393632</td>\n",
              "      <td>1.554566</td>\n",
              "      <td>2.148468</td>\n",
              "      <td>1.179117</td>\n",
              "      <td>0.688057</td>\n",
              "    </tr>\n",
              "    <tr>\n",
              "      <th>9</th>\n",
              "      <td>0.0</td>\n",
              "      <td>1.001869</td>\n",
              "      <td>-0.471788</td>\n",
              "      <td>0.555614</td>\n",
              "      <td>1.233368</td>\n",
              "      <td>1.255548</td>\n",
              "      <td>-1.052491</td>\n",
              "      <td>0.437615</td>\n",
              "      <td>-1.333052</td>\n",
              "      <td>0.326858</td>\n",
              "      <td>-0.111678</td>\n",
              "      <td>1.435708</td>\n",
              "      <td>0.755201</td>\n",
              "      <td>0.466779</td>\n",
              "      <td>0.454541</td>\n",
              "      <td>1.446331</td>\n",
              "      <td>0.592259</td>\n",
              "      <td>1.325197</td>\n",
              "      <td>0.083014</td>\n",
              "    </tr>\n",
              "    <tr>\n",
              "      <th>10</th>\n",
              "      <td>0.0</td>\n",
              "      <td>0.840115</td>\n",
              "      <td>0.958249</td>\n",
              "      <td>-0.585658</td>\n",
              "      <td>1.317930</td>\n",
              "      <td>-1.063730</td>\n",
              "      <td>1.246235</td>\n",
              "      <td>0.261865</td>\n",
              "      <td>-0.027341</td>\n",
              "      <td>0.330517</td>\n",
              "      <td>0.183190</td>\n",
              "      <td>1.557298</td>\n",
              "      <td>0.531022</td>\n",
              "      <td>0.302592</td>\n",
              "      <td>0.426702</td>\n",
              "      <td>1.564376</td>\n",
              "      <td>0.338552</td>\n",
              "      <td>1.137456</td>\n",
              "      <td>0.011040</td>\n",
              "    </tr>\n",
              "    <tr>\n",
              "      <th>11</th>\n",
              "      <td>0.0</td>\n",
              "      <td>1.263320</td>\n",
              "      <td>0.733208</td>\n",
              "      <td>0.331149</td>\n",
              "      <td>1.511739</td>\n",
              "      <td>0.371084</td>\n",
              "      <td>-1.585176</td>\n",
              "      <td>0.572889</td>\n",
              "      <td>-1.054526</td>\n",
              "      <td>0.698872</td>\n",
              "      <td>-0.259238</td>\n",
              "      <td>1.155319</td>\n",
              "      <td>0.983545</td>\n",
              "      <td>0.755454</td>\n",
              "      <td>0.926953</td>\n",
              "      <td>1.168115</td>\n",
              "      <td>0.709708</td>\n",
              "      <td>1.578325</td>\n",
              "      <td>0.184405</td>\n",
              "    </tr>\n",
              "    <tr>\n",
              "      <th>12</th>\n",
              "      <td>0.0</td>\n",
              "      <td>0.698336</td>\n",
              "      <td>1.689431</td>\n",
              "      <td>-1.134670</td>\n",
              "      <td>0.966594</td>\n",
              "      <td>1.503367</td>\n",
              "      <td>0.880949</td>\n",
              "      <td>0.242573</td>\n",
              "      <td>-0.228654</td>\n",
              "      <td>0.364132</td>\n",
              "      <td>0.109350</td>\n",
              "      <td>0.668554</td>\n",
              "      <td>0.489941</td>\n",
              "      <td>0.650313</td>\n",
              "      <td>0.683634</td>\n",
              "      <td>0.664825</td>\n",
              "      <td>0.510385</td>\n",
              "      <td>0.584092</td>\n",
              "      <td>0.031694</td>\n",
              "    </tr>\n",
              "    <tr>\n",
              "      <th>13</th>\n",
              "      <td>0.0</td>\n",
              "      <td>0.578286</td>\n",
              "      <td>-0.689652</td>\n",
              "      <td>-0.390094</td>\n",
              "      <td>0.480061</td>\n",
              "      <td>-0.632219</td>\n",
              "      <td>1.212005</td>\n",
              "      <td>0.640473</td>\n",
              "      <td>-1.622401</td>\n",
              "      <td>0.872160</td>\n",
              "      <td>-0.186169</td>\n",
              "      <td>0.451853</td>\n",
              "      <td>0.669288</td>\n",
              "      <td>1.314412</td>\n",
              "      <td>0.559444</td>\n",
              "      <td>0.491753</td>\n",
              "      <td>0.559017</td>\n",
              "      <td>1.286520</td>\n",
              "      <td>0.400292</td>\n",
              "    </tr>\n",
              "    <tr>\n",
              "      <th>14</th>\n",
              "      <td>1.0</td>\n",
              "      <td>0.798202</td>\n",
              "      <td>0.099358</td>\n",
              "      <td>-1.095839</td>\n",
              "      <td>0.531147</td>\n",
              "      <td>-0.962327</td>\n",
              "      <td>1.500362</td>\n",
              "      <td>1.273941</td>\n",
              "      <td>0.675408</td>\n",
              "      <td>1.803743</td>\n",
              "      <td>-0.845941</td>\n",
              "      <td>0.685836</td>\n",
              "      <td>1.234757</td>\n",
              "      <td>1.597630</td>\n",
              "      <td>1.864630</td>\n",
              "      <td>0.775854</td>\n",
              "      <td>1.556949</td>\n",
              "      <td>1.245781</td>\n",
              "      <td>0.538010</td>\n",
              "    </tr>\n",
              "    <tr>\n",
              "      <th>15</th>\n",
              "      <td>1.0</td>\n",
              "      <td>0.452214</td>\n",
              "      <td>-0.004851</td>\n",
              "      <td>-1.374135</td>\n",
              "      <td>0.455546</td>\n",
              "      <td>0.271702</td>\n",
              "      <td>1.643006</td>\n",
              "      <td>0.835887</td>\n",
              "      <td>-0.254897</td>\n",
              "      <td>1.254769</td>\n",
              "      <td>-0.252735</td>\n",
              "      <td>0.383118</td>\n",
              "      <td>0.788506</td>\n",
              "      <td>1.826371</td>\n",
              "      <td>1.687989</td>\n",
              "      <td>0.412063</td>\n",
              "      <td>1.258978</td>\n",
              "      <td>1.000029</td>\n",
              "      <td>0.237916</td>\n",
              "    </tr>\n",
              "    <tr>\n",
              "      <th>16</th>\n",
              "      <td>0.0</td>\n",
              "      <td>0.865126</td>\n",
              "      <td>-1.109674</td>\n",
              "      <td>1.378841</td>\n",
              "      <td>1.225827</td>\n",
              "      <td>-1.599314</td>\n",
              "      <td>-0.335546</td>\n",
              "      <td>0.452621</td>\n",
              "      <td>1.396529</td>\n",
              "      <td>0.014348</td>\n",
              "      <td>0.761019</td>\n",
              "      <td>0.873992</td>\n",
              "      <td>0.646078</td>\n",
              "      <td>0.655985</td>\n",
              "      <td>0.027587</td>\n",
              "      <td>0.879327</td>\n",
              "      <td>0.099123</td>\n",
              "      <td>1.526896</td>\n",
              "      <td>0.103202</td>\n",
              "    </tr>\n",
              "    <tr>\n",
              "      <th>17</th>\n",
              "      <td>0.0</td>\n",
              "      <td>0.679042</td>\n",
              "      <td>-0.116113</td>\n",
              "      <td>-1.449247</td>\n",
              "      <td>0.725930</td>\n",
              "      <td>0.832636</td>\n",
              "      <td>-1.068640</td>\n",
              "      <td>0.734276</td>\n",
              "      <td>0.616541</td>\n",
              "      <td>1.102238</td>\n",
              "      <td>-0.383189</td>\n",
              "      <td>0.674581</td>\n",
              "      <td>0.989127</td>\n",
              "      <td>1.301167</td>\n",
              "      <td>2.113569</td>\n",
              "      <td>0.622589</td>\n",
              "      <td>1.583448</td>\n",
              "      <td>0.462588</td>\n",
              "      <td>0.192226</td>\n",
              "    </tr>\n",
              "    <tr>\n",
              "      <th>18</th>\n",
              "      <td>0.0</td>\n",
              "      <td>0.696711</td>\n",
              "      <td>1.532483</td>\n",
              "      <td>0.451737</td>\n",
              "      <td>0.953612</td>\n",
              "      <td>1.085324</td>\n",
              "      <td>-1.261485</td>\n",
              "      <td>0.021957</td>\n",
              "      <td>0.769306</td>\n",
              "      <td>0.017608</td>\n",
              "      <td>0.332876</td>\n",
              "      <td>0.681880</td>\n",
              "      <td>0.127229</td>\n",
              "      <td>0.165574</td>\n",
              "      <td>0.041008</td>\n",
              "      <td>0.681533</td>\n",
              "      <td>0.039989</td>\n",
              "      <td>0.126778</td>\n",
              "      <td>0.040972</td>\n",
              "    </tr>\n",
              "    <tr>\n",
              "      <th>19</th>\n",
              "      <td>1.0</td>\n",
              "      <td>1.006098</td>\n",
              "      <td>-0.218872</td>\n",
              "      <td>1.273336</td>\n",
              "      <td>1.621487</td>\n",
              "      <td>0.076018</td>\n",
              "      <td>0.586132</td>\n",
              "      <td>0.561284</td>\n",
              "      <td>0.170752</td>\n",
              "      <td>0.582976</td>\n",
              "      <td>0.411129</td>\n",
              "      <td>1.046204</td>\n",
              "      <td>0.777395</td>\n",
              "      <td>0.659388</td>\n",
              "      <td>1.177816</td>\n",
              "      <td>0.740323</td>\n",
              "      <td>1.207057</td>\n",
              "      <td>0.418392</td>\n",
              "      <td>0.219343</td>\n",
              "    </tr>\n",
              "    <tr>\n",
              "      <th>20</th>\n",
              "      <td>1.0</td>\n",
              "      <td>0.837867</td>\n",
              "      <td>1.134530</td>\n",
              "      <td>-0.911252</td>\n",
              "      <td>0.616626</td>\n",
              "      <td>1.000158</td>\n",
              "      <td>1.292737</td>\n",
              "      <td>1.272458</td>\n",
              "      <td>-0.676616</td>\n",
              "      <td>0.764920</td>\n",
              "      <td>1.165517</td>\n",
              "      <td>0.631193</td>\n",
              "      <td>0.786714</td>\n",
              "      <td>1.106040</td>\n",
              "      <td>0.815495</td>\n",
              "      <td>0.588254</td>\n",
              "      <td>0.607716</td>\n",
              "      <td>1.156936</td>\n",
              "      <td>0.310599</td>\n",
              "    </tr>\n",
              "    <tr>\n",
              "      <th>21</th>\n",
              "      <td>0.0</td>\n",
              "      <td>1.641748</td>\n",
              "      <td>-1.829807</td>\n",
              "      <td>0.150152</td>\n",
              "      <td>2.702642</td>\n",
              "      <td>-0.129722</td>\n",
              "      <td>-1.380814</td>\n",
              "      <td>0.194475</td>\n",
              "      <td>-1.478649</td>\n",
              "      <td>0.055107</td>\n",
              "      <td>0.303612</td>\n",
              "      <td>2.638832</td>\n",
              "      <td>0.636117</td>\n",
              "      <td>0.213914</td>\n",
              "      <td>0.230072</td>\n",
              "      <td>2.635528</td>\n",
              "      <td>0.546993</td>\n",
              "      <td>0.354201</td>\n",
              "      <td>0.016105</td>\n",
              "    </tr>\n",
              "    <tr>\n",
              "      <th>22</th>\n",
              "      <td>0.0</td>\n",
              "      <td>1.466649</td>\n",
              "      <td>0.115517</td>\n",
              "      <td>-1.036161</td>\n",
              "      <td>0.877247</td>\n",
              "      <td>0.690861</td>\n",
              "      <td>1.130069</td>\n",
              "      <td>0.890722</td>\n",
              "      <td>0.426515</td>\n",
              "      <td>1.283212</td>\n",
              "      <td>-0.563880</td>\n",
              "      <td>1.090046</td>\n",
              "      <td>1.327570</td>\n",
              "      <td>1.080762</td>\n",
              "      <td>1.588076</td>\n",
              "      <td>1.069615</td>\n",
              "      <td>1.258800</td>\n",
              "      <td>0.443045</td>\n",
              "      <td>0.415406</td>\n",
              "    </tr>\n",
              "    <tr>\n",
              "      <th>23</th>\n",
              "      <td>1.0</td>\n",
              "      <td>1.641595</td>\n",
              "      <td>-1.044596</td>\n",
              "      <td>0.543058</td>\n",
              "      <td>0.744842</td>\n",
              "      <td>-0.308126</td>\n",
              "      <td>-0.956825</td>\n",
              "      <td>1.249039</td>\n",
              "      <td>-1.477087</td>\n",
              "      <td>0.731511</td>\n",
              "      <td>-0.847167</td>\n",
              "      <td>1.160934</td>\n",
              "      <td>1.601837</td>\n",
              "      <td>1.224409</td>\n",
              "      <td>1.256747</td>\n",
              "      <td>1.179161</td>\n",
              "      <td>1.215011</td>\n",
              "      <td>0.937398</td>\n",
              "      <td>0.513443</td>\n",
              "    </tr>\n",
              "    <tr>\n",
              "      <th>24</th>\n",
              "      <td>1.0</td>\n",
              "      <td>1.361442</td>\n",
              "      <td>-0.506247</td>\n",
              "      <td>-0.646164</td>\n",
              "      <td>1.047869</td>\n",
              "      <td>1.136730</td>\n",
              "      <td>0.698665</td>\n",
              "      <td>1.657924</td>\n",
              "      <td>-0.061501</td>\n",
              "      <td>2.154410</td>\n",
              "      <td>1.672853</td>\n",
              "      <td>1.525310</td>\n",
              "      <td>1.117499</td>\n",
              "      <td>0.650136</td>\n",
              "      <td>0.000000</td>\n",
              "      <td>1.472982</td>\n",
              "      <td>0.969957</td>\n",
              "      <td>1.209303</td>\n",
              "      <td>0.039710</td>\n",
              "    </tr>\n",
              "    <tr>\n",
              "      <th>25</th>\n",
              "      <td>0.0</td>\n",
              "      <td>1.297482</td>\n",
              "      <td>-0.254912</td>\n",
              "      <td>1.116834</td>\n",
              "      <td>0.979169</td>\n",
              "      <td>-0.135346</td>\n",
              "      <td>-0.697154</td>\n",
              "      <td>1.027495</td>\n",
              "      <td>-0.166322</td>\n",
              "      <td>1.254201</td>\n",
              "      <td>-0.479649</td>\n",
              "      <td>0.985066</td>\n",
              "      <td>1.259747</td>\n",
              "      <td>1.134837</td>\n",
              "      <td>0.760780</td>\n",
              "      <td>1.022235</td>\n",
              "      <td>0.810835</td>\n",
              "      <td>1.115006</td>\n",
              "      <td>0.394822</td>\n",
              "    </tr>\n",
              "    <tr>\n",
              "      <th>26</th>\n",
              "      <td>0.0</td>\n",
              "      <td>0.378505</td>\n",
              "      <td>-1.082134</td>\n",
              "      <td>1.008099</td>\n",
              "      <td>0.611425</td>\n",
              "      <td>-1.285566</td>\n",
              "      <td>-0.065581</td>\n",
              "      <td>0.916273</td>\n",
              "      <td>-0.886186</td>\n",
              "      <td>1.371866</td>\n",
              "      <td>-0.421905</td>\n",
              "      <td>0.391697</td>\n",
              "      <td>0.790429</td>\n",
              "      <td>1.790726</td>\n",
              "      <td>1.388440</td>\n",
              "      <td>0.473287</td>\n",
              "      <td>1.068429</td>\n",
              "      <td>1.305904</td>\n",
              "      <td>0.347194</td>\n",
              "    </tr>\n",
              "    <tr>\n",
              "      <th>27</th>\n",
              "      <td>0.0</td>\n",
              "      <td>0.675933</td>\n",
              "      <td>0.126536</td>\n",
              "      <td>0.956136</td>\n",
              "      <td>0.686048</td>\n",
              "      <td>-0.199500</td>\n",
              "      <td>-1.708110</td>\n",
              "      <td>0.924259</td>\n",
              "      <td>-0.693053</td>\n",
              "      <td>1.387424</td>\n",
              "      <td>-0.549809</td>\n",
              "      <td>0.577165</td>\n",
              "      <td>1.042057</td>\n",
              "      <td>1.602167</td>\n",
              "      <td>1.921268</td>\n",
              "      <td>0.612655</td>\n",
              "      <td>1.435927</td>\n",
              "      <td>1.072373</td>\n",
              "      <td>0.474427</td>\n",
              "    </tr>\n",
              "    <tr>\n",
              "      <th>28</th>\n",
              "      <td>0.0</td>\n",
              "      <td>0.463987</td>\n",
              "      <td>0.011333</td>\n",
              "      <td>0.369054</td>\n",
              "      <td>0.553187</td>\n",
              "      <td>0.389280</td>\n",
              "      <td>0.301573</td>\n",
              "      <td>1.657913</td>\n",
              "      <td>1.520308</td>\n",
              "      <td>2.488732</td>\n",
              "      <td>-0.559999</td>\n",
              "      <td>0.425258</td>\n",
              "      <td>1.126461</td>\n",
              "      <td>2.350607</td>\n",
              "      <td>2.460358</td>\n",
              "      <td>0.565242</td>\n",
              "      <td>1.836446</td>\n",
              "      <td>1.168629</td>\n",
              "      <td>0.602618</td>\n",
              "    </tr>\n",
              "    <tr>\n",
              "      <th>29</th>\n",
              "      <td>0.0</td>\n",
              "      <td>1.164915</td>\n",
              "      <td>-1.216874</td>\n",
              "      <td>1.387384</td>\n",
              "      <td>1.289362</td>\n",
              "      <td>0.853503</td>\n",
              "      <td>-0.864189</td>\n",
              "      <td>0.552337</td>\n",
              "      <td>0.371583</td>\n",
              "      <td>0.829126</td>\n",
              "      <td>-0.149219</td>\n",
              "      <td>1.863999</td>\n",
              "      <td>0.975417</td>\n",
              "      <td>0.464368</td>\n",
              "      <td>1.686075</td>\n",
              "      <td>1.846609</td>\n",
              "      <td>1.296029</td>\n",
              "      <td>0.454520</td>\n",
              "      <td>0.027528</td>\n",
              "    </tr>\n",
              "    <tr>\n",
              "      <th>...</th>\n",
              "      <td>...</td>\n",
              "      <td>...</td>\n",
              "      <td>...</td>\n",
              "      <td>...</td>\n",
              "      <td>...</td>\n",
              "      <td>...</td>\n",
              "      <td>...</td>\n",
              "      <td>...</td>\n",
              "      <td>...</td>\n",
              "      <td>...</td>\n",
              "      <td>...</td>\n",
              "      <td>...</td>\n",
              "      <td>...</td>\n",
              "      <td>...</td>\n",
              "      <td>...</td>\n",
              "      <td>...</td>\n",
              "      <td>...</td>\n",
              "      <td>...</td>\n",
              "      <td>...</td>\n",
              "    </tr>\n",
              "    <tr>\n",
              "      <th>499970</th>\n",
              "      <td>0.0</td>\n",
              "      <td>0.537460</td>\n",
              "      <td>-0.347555</td>\n",
              "      <td>-0.620343</td>\n",
              "      <td>0.902474</td>\n",
              "      <td>-1.855050</td>\n",
              "      <td>0.964977</td>\n",
              "      <td>0.460276</td>\n",
              "      <td>-0.065309</td>\n",
              "      <td>0.578697</td>\n",
              "      <td>0.736098</td>\n",
              "      <td>0.816430</td>\n",
              "      <td>0.523974</td>\n",
              "      <td>0.569520</td>\n",
              "      <td>0.000000</td>\n",
              "      <td>0.821971</td>\n",
              "      <td>0.305339</td>\n",
              "      <td>1.461438</td>\n",
              "      <td>0.047792</td>\n",
              "    </tr>\n",
              "    <tr>\n",
              "      <th>499971</th>\n",
              "      <td>0.0</td>\n",
              "      <td>0.419760</td>\n",
              "      <td>-0.627942</td>\n",
              "      <td>0.616782</td>\n",
              "      <td>0.660940</td>\n",
              "      <td>-1.255422</td>\n",
              "      <td>1.501864</td>\n",
              "      <td>0.991986</td>\n",
              "      <td>-0.894547</td>\n",
              "      <td>1.489092</td>\n",
              "      <td>-0.610941</td>\n",
              "      <td>0.457550</td>\n",
              "      <td>0.916877</td>\n",
              "      <td>1.778233</td>\n",
              "      <td>1.796010</td>\n",
              "      <td>0.545523</td>\n",
              "      <td>1.367273</td>\n",
              "      <td>1.345422</td>\n",
              "      <td>0.217747</td>\n",
              "    </tr>\n",
              "    <tr>\n",
              "      <th>499972</th>\n",
              "      <td>0.0</td>\n",
              "      <td>0.395581</td>\n",
              "      <td>0.178242</td>\n",
              "      <td>-0.053588</td>\n",
              "      <td>0.573902</td>\n",
              "      <td>0.137434</td>\n",
              "      <td>1.262427</td>\n",
              "      <td>0.243949</td>\n",
              "      <td>-1.464823</td>\n",
              "      <td>0.355689</td>\n",
              "      <td>0.094130</td>\n",
              "      <td>0.385406</td>\n",
              "      <td>0.390635</td>\n",
              "      <td>0.899433</td>\n",
              "      <td>0.578868</td>\n",
              "      <td>0.385088</td>\n",
              "      <td>0.432241</td>\n",
              "      <td>0.774401</td>\n",
              "      <td>0.150890</td>\n",
              "    </tr>\n",
              "    <tr>\n",
              "      <th>499973</th>\n",
              "      <td>0.0</td>\n",
              "      <td>0.972934</td>\n",
              "      <td>0.113099</td>\n",
              "      <td>-0.562996</td>\n",
              "      <td>0.561040</td>\n",
              "      <td>-0.840485</td>\n",
              "      <td>-1.511643</td>\n",
              "      <td>0.929624</td>\n",
              "      <td>1.120426</td>\n",
              "      <td>1.394141</td>\n",
              "      <td>-0.591261</td>\n",
              "      <td>0.774140</td>\n",
              "      <td>1.153155</td>\n",
              "      <td>1.321851</td>\n",
              "      <td>1.655822</td>\n",
              "      <td>0.784434</td>\n",
              "      <td>1.364477</td>\n",
              "      <td>0.914701</td>\n",
              "      <td>0.493136</td>\n",
              "    </tr>\n",
              "    <tr>\n",
              "      <th>499974</th>\n",
              "      <td>0.0</td>\n",
              "      <td>1.469271</td>\n",
              "      <td>0.936537</td>\n",
              "      <td>0.964005</td>\n",
              "      <td>1.287438</td>\n",
              "      <td>-0.693082</td>\n",
              "      <td>-1.108208</td>\n",
              "      <td>0.589607</td>\n",
              "      <td>0.522290</td>\n",
              "      <td>0.642059</td>\n",
              "      <td>0.479463</td>\n",
              "      <td>1.723109</td>\n",
              "      <td>0.858089</td>\n",
              "      <td>0.441912</td>\n",
              "      <td>1.116971</td>\n",
              "      <td>1.676294</td>\n",
              "      <td>0.862139</td>\n",
              "      <td>0.610447</td>\n",
              "      <td>0.018870</td>\n",
              "    </tr>\n",
              "    <tr>\n",
              "      <th>499975</th>\n",
              "      <td>1.0</td>\n",
              "      <td>0.632105</td>\n",
              "      <td>0.214231</td>\n",
              "      <td>1.484738</td>\n",
              "      <td>1.019529</td>\n",
              "      <td>0.614447</td>\n",
              "      <td>-0.696768</td>\n",
              "      <td>3.651842</td>\n",
              "      <td>-1.524336</td>\n",
              "      <td>4.009243</td>\n",
              "      <td>3.826386</td>\n",
              "      <td>0.667056</td>\n",
              "      <td>1.335088</td>\n",
              "      <td>1.776079</td>\n",
              "      <td>0.000000</td>\n",
              "      <td>0.821520</td>\n",
              "      <td>1.591792</td>\n",
              "      <td>1.528694</td>\n",
              "      <td>0.377555</td>\n",
              "    </tr>\n",
              "    <tr>\n",
              "      <th>499976</th>\n",
              "      <td>1.0</td>\n",
              "      <td>0.768289</td>\n",
              "      <td>-0.703875</td>\n",
              "      <td>0.501280</td>\n",
              "      <td>0.794489</td>\n",
              "      <td>0.503634</td>\n",
              "      <td>-0.196316</td>\n",
              "      <td>1.121685</td>\n",
              "      <td>0.459519</td>\n",
              "      <td>0.147040</td>\n",
              "      <td>1.366689</td>\n",
              "      <td>0.817190</td>\n",
              "      <td>0.456570</td>\n",
              "      <td>0.495795</td>\n",
              "      <td>0.000000</td>\n",
              "      <td>0.634133</td>\n",
              "      <td>0.315197</td>\n",
              "      <td>1.000176</td>\n",
              "      <td>0.112849</td>\n",
              "    </tr>\n",
              "    <tr>\n",
              "      <th>499977</th>\n",
              "      <td>1.0</td>\n",
              "      <td>0.842067</td>\n",
              "      <td>0.240811</td>\n",
              "      <td>0.179169</td>\n",
              "      <td>1.401048</td>\n",
              "      <td>1.415706</td>\n",
              "      <td>-0.866718</td>\n",
              "      <td>0.396203</td>\n",
              "      <td>-0.306892</td>\n",
              "      <td>0.315383</td>\n",
              "      <td>0.714088</td>\n",
              "      <td>1.109899</td>\n",
              "      <td>0.418403</td>\n",
              "      <td>0.334525</td>\n",
              "      <td>0.000000</td>\n",
              "      <td>0.997452</td>\n",
              "      <td>0.438825</td>\n",
              "      <td>0.028602</td>\n",
              "      <td>0.002863</td>\n",
              "    </tr>\n",
              "    <tr>\n",
              "      <th>499978</th>\n",
              "      <td>0.0</td>\n",
              "      <td>0.385378</td>\n",
              "      <td>1.108041</td>\n",
              "      <td>-1.436215</td>\n",
              "      <td>0.487193</td>\n",
              "      <td>-1.211365</td>\n",
              "      <td>0.783819</td>\n",
              "      <td>0.622123</td>\n",
              "      <td>0.649645</td>\n",
              "      <td>0.128835</td>\n",
              "      <td>0.248379</td>\n",
              "      <td>0.749672</td>\n",
              "      <td>0.527876</td>\n",
              "      <td>0.624854</td>\n",
              "      <td>0.251111</td>\n",
              "      <td>0.763394</td>\n",
              "      <td>0.611990</td>\n",
              "      <td>1.172607</td>\n",
              "      <td>0.117587</td>\n",
              "    </tr>\n",
              "    <tr>\n",
              "      <th>499979</th>\n",
              "      <td>0.0</td>\n",
              "      <td>0.772624</td>\n",
              "      <td>1.276190</td>\n",
              "      <td>-0.217980</td>\n",
              "      <td>0.471723</td>\n",
              "      <td>-1.705981</td>\n",
              "      <td>-0.845645</td>\n",
              "      <td>0.923202</td>\n",
              "      <td>1.042776</td>\n",
              "      <td>1.385839</td>\n",
              "      <td>-0.453657</td>\n",
              "      <td>1.527248</td>\n",
              "      <td>1.031838</td>\n",
              "      <td>0.599540</td>\n",
              "      <td>2.007053</td>\n",
              "      <td>1.534553</td>\n",
              "      <td>1.619714</td>\n",
              "      <td>0.891851</td>\n",
              "      <td>0.046894</td>\n",
              "    </tr>\n",
              "    <tr>\n",
              "      <th>499980</th>\n",
              "      <td>1.0</td>\n",
              "      <td>2.289871</td>\n",
              "      <td>-0.333451</td>\n",
              "      <td>-1.297400</td>\n",
              "      <td>1.114369</td>\n",
              "      <td>0.073818</td>\n",
              "      <td>0.632961</td>\n",
              "      <td>1.810973</td>\n",
              "      <td>0.681948</td>\n",
              "      <td>0.209818</td>\n",
              "      <td>-1.217686</td>\n",
              "      <td>1.576145</td>\n",
              "      <td>2.238973</td>\n",
              "      <td>1.260574</td>\n",
              "      <td>0.000000</td>\n",
              "      <td>1.609570</td>\n",
              "      <td>0.631249</td>\n",
              "      <td>0.960101</td>\n",
              "      <td>0.571544</td>\n",
              "    </tr>\n",
              "    <tr>\n",
              "      <th>499981</th>\n",
              "      <td>0.0</td>\n",
              "      <td>0.643809</td>\n",
              "      <td>-0.335417</td>\n",
              "      <td>1.513210</td>\n",
              "      <td>1.005176</td>\n",
              "      <td>-1.752782</td>\n",
              "      <td>0.023477</td>\n",
              "      <td>0.731105</td>\n",
              "      <td>-0.799264</td>\n",
              "      <td>1.094923</td>\n",
              "      <td>-0.412521</td>\n",
              "      <td>0.907218</td>\n",
              "      <td>0.837556</td>\n",
              "      <td>0.819255</td>\n",
              "      <td>1.085013</td>\n",
              "      <td>0.942502</td>\n",
              "      <td>0.927189</td>\n",
              "      <td>1.542992</td>\n",
              "      <td>0.057488</td>\n",
              "    </tr>\n",
              "    <tr>\n",
              "      <th>499982</th>\n",
              "      <td>0.0</td>\n",
              "      <td>1.158484</td>\n",
              "      <td>-1.582587</td>\n",
              "      <td>-1.363942</td>\n",
              "      <td>1.294750</td>\n",
              "      <td>-0.580048</td>\n",
              "      <td>0.829218</td>\n",
              "      <td>0.445931</td>\n",
              "      <td>-0.280562</td>\n",
              "      <td>0.556409</td>\n",
              "      <td>-0.083860</td>\n",
              "      <td>1.181313</td>\n",
              "      <td>0.871704</td>\n",
              "      <td>0.654816</td>\n",
              "      <td>1.438368</td>\n",
              "      <td>1.150384</td>\n",
              "      <td>1.107719</td>\n",
              "      <td>0.340854</td>\n",
              "      <td>0.082717</td>\n",
              "    </tr>\n",
              "    <tr>\n",
              "      <th>499983</th>\n",
              "      <td>1.0</td>\n",
              "      <td>0.527736</td>\n",
              "      <td>-0.199356</td>\n",
              "      <td>0.074384</td>\n",
              "      <td>0.502183</td>\n",
              "      <td>-0.329928</td>\n",
              "      <td>0.526838</td>\n",
              "      <td>0.580618</td>\n",
              "      <td>-1.057109</td>\n",
              "      <td>0.046096</td>\n",
              "      <td>-0.094358</td>\n",
              "      <td>0.433499</td>\n",
              "      <td>0.707965</td>\n",
              "      <td>1.449237</td>\n",
              "      <td>1.509151</td>\n",
              "      <td>0.380917</td>\n",
              "      <td>1.122904</td>\n",
              "      <td>0.688181</td>\n",
              "      <td>0.286788</td>\n",
              "    </tr>\n",
              "    <tr>\n",
              "      <th>499984</th>\n",
              "      <td>0.0</td>\n",
              "      <td>0.295727</td>\n",
              "      <td>-1.780252</td>\n",
              "      <td>-1.690982</td>\n",
              "      <td>0.435482</td>\n",
              "      <td>-1.055104</td>\n",
              "      <td>0.397734</td>\n",
              "      <td>0.968466</td>\n",
              "      <td>-0.367141</td>\n",
              "      <td>1.432007</td>\n",
              "      <td>-0.614686</td>\n",
              "      <td>0.315603</td>\n",
              "      <td>0.666663</td>\n",
              "      <td>1.874477</td>\n",
              "      <td>0.957269</td>\n",
              "      <td>0.416054</td>\n",
              "      <td>0.881214</td>\n",
              "      <td>1.534354</td>\n",
              "      <td>0.332833</td>\n",
              "    </tr>\n",
              "    <tr>\n",
              "      <th>499985</th>\n",
              "      <td>0.0</td>\n",
              "      <td>0.420714</td>\n",
              "      <td>1.583586</td>\n",
              "      <td>0.928426</td>\n",
              "      <td>0.636733</td>\n",
              "      <td>1.811827</td>\n",
              "      <td>-0.664509</td>\n",
              "      <td>0.467146</td>\n",
              "      <td>1.118262</td>\n",
              "      <td>0.228950</td>\n",
              "      <td>0.403486</td>\n",
              "      <td>0.423163</td>\n",
              "      <td>0.479847</td>\n",
              "      <td>1.006264</td>\n",
              "      <td>0.255561</td>\n",
              "      <td>0.440061</td>\n",
              "      <td>0.200298</td>\n",
              "      <td>1.373753</td>\n",
              "      <td>0.261667</td>\n",
              "    </tr>\n",
              "    <tr>\n",
              "      <th>499986</th>\n",
              "      <td>0.0</td>\n",
              "      <td>0.470995</td>\n",
              "      <td>-0.544267</td>\n",
              "      <td>-1.543542</td>\n",
              "      <td>0.718518</td>\n",
              "      <td>1.403118</td>\n",
              "      <td>0.440097</td>\n",
              "      <td>0.336129</td>\n",
              "      <td>0.604332</td>\n",
              "      <td>0.142331</td>\n",
              "      <td>0.416140</td>\n",
              "      <td>0.832108</td>\n",
              "      <td>0.422127</td>\n",
              "      <td>0.450174</td>\n",
              "      <td>0.000000</td>\n",
              "      <td>0.833872</td>\n",
              "      <td>0.268812</td>\n",
              "      <td>1.092968</td>\n",
              "      <td>0.064755</td>\n",
              "    </tr>\n",
              "    <tr>\n",
              "      <th>499987</th>\n",
              "      <td>1.0</td>\n",
              "      <td>0.525562</td>\n",
              "      <td>-0.570116</td>\n",
              "      <td>-0.731569</td>\n",
              "      <td>0.491346</td>\n",
              "      <td>1.649133</td>\n",
              "      <td>1.172547</td>\n",
              "      <td>0.779482</td>\n",
              "      <td>0.247336</td>\n",
              "      <td>1.170099</td>\n",
              "      <td>-0.081037</td>\n",
              "      <td>0.844615</td>\n",
              "      <td>0.684962</td>\n",
              "      <td>0.719650</td>\n",
              "      <td>0.749379</td>\n",
              "      <td>0.877395</td>\n",
              "      <td>0.870140</td>\n",
              "      <td>1.322785</td>\n",
              "      <td>0.050931</td>\n",
              "    </tr>\n",
              "    <tr>\n",
              "      <th>499988</th>\n",
              "      <td>1.0</td>\n",
              "      <td>0.939203</td>\n",
              "      <td>0.496058</td>\n",
              "      <td>0.492828</td>\n",
              "      <td>0.666188</td>\n",
              "      <td>-1.330323</td>\n",
              "      <td>-1.665897</td>\n",
              "      <td>1.501900</td>\n",
              "      <td>0.031668</td>\n",
              "      <td>1.689827</td>\n",
              "      <td>0.799185</td>\n",
              "      <td>1.104025</td>\n",
              "      <td>1.026356</td>\n",
              "      <td>0.824965</td>\n",
              "      <td>1.495351</td>\n",
              "      <td>1.117306</td>\n",
              "      <td>1.287094</td>\n",
              "      <td>1.173716</td>\n",
              "      <td>0.095378</td>\n",
              "    </tr>\n",
              "    <tr>\n",
              "      <th>499989</th>\n",
              "      <td>0.0</td>\n",
              "      <td>0.470020</td>\n",
              "      <td>0.205567</td>\n",
              "      <td>-0.209841</td>\n",
              "      <td>0.667478</td>\n",
              "      <td>1.507141</td>\n",
              "      <td>1.546843</td>\n",
              "      <td>0.715874</td>\n",
              "      <td>0.898069</td>\n",
              "      <td>0.996220</td>\n",
              "      <td>-0.110150</td>\n",
              "      <td>0.602144</td>\n",
              "      <td>0.642687</td>\n",
              "      <td>0.947142</td>\n",
              "      <td>0.263755</td>\n",
              "      <td>0.639377</td>\n",
              "      <td>0.660589</td>\n",
              "      <td>1.510957</td>\n",
              "      <td>0.124461</td>\n",
              "    </tr>\n",
              "    <tr>\n",
              "      <th>499990</th>\n",
              "      <td>0.0</td>\n",
              "      <td>0.549398</td>\n",
              "      <td>-1.242782</td>\n",
              "      <td>0.925638</td>\n",
              "      <td>0.501821</td>\n",
              "      <td>1.051119</td>\n",
              "      <td>-0.903393</td>\n",
              "      <td>0.612704</td>\n",
              "      <td>0.281705</td>\n",
              "      <td>0.849726</td>\n",
              "      <td>0.436558</td>\n",
              "      <td>0.901610</td>\n",
              "      <td>0.555915</td>\n",
              "      <td>0.547151</td>\n",
              "      <td>0.478030</td>\n",
              "      <td>0.911844</td>\n",
              "      <td>0.588468</td>\n",
              "      <td>1.221528</td>\n",
              "      <td>0.004398</td>\n",
              "    </tr>\n",
              "    <tr>\n",
              "      <th>499991</th>\n",
              "      <td>1.0</td>\n",
              "      <td>1.521302</td>\n",
              "      <td>0.734693</td>\n",
              "      <td>0.280339</td>\n",
              "      <td>1.590609</td>\n",
              "      <td>0.366158</td>\n",
              "      <td>-1.507171</td>\n",
              "      <td>0.828265</td>\n",
              "      <td>-0.980382</td>\n",
              "      <td>1.005345</td>\n",
              "      <td>-0.325469</td>\n",
              "      <td>1.318534</td>\n",
              "      <td>1.237360</td>\n",
              "      <td>0.832760</td>\n",
              "      <td>0.671833</td>\n",
              "      <td>1.340157</td>\n",
              "      <td>0.739515</td>\n",
              "      <td>1.115782</td>\n",
              "      <td>0.227649</td>\n",
              "    </tr>\n",
              "    <tr>\n",
              "      <th>499992</th>\n",
              "      <td>0.0</td>\n",
              "      <td>0.663924</td>\n",
              "      <td>1.333877</td>\n",
              "      <td>1.388858</td>\n",
              "      <td>0.994298</td>\n",
              "      <td>-1.250891</td>\n",
              "      <td>-0.521438</td>\n",
              "      <td>0.406442</td>\n",
              "      <td>-0.652890</td>\n",
              "      <td>0.151140</td>\n",
              "      <td>0.341222</td>\n",
              "      <td>1.617689</td>\n",
              "      <td>0.565284</td>\n",
              "      <td>0.310089</td>\n",
              "      <td>0.000000</td>\n",
              "      <td>1.624927</td>\n",
              "      <td>0.390820</td>\n",
              "      <td>1.149154</td>\n",
              "      <td>0.031734</td>\n",
              "    </tr>\n",
              "    <tr>\n",
              "      <th>499993</th>\n",
              "      <td>0.0</td>\n",
              "      <td>1.406509</td>\n",
              "      <td>-1.771548</td>\n",
              "      <td>0.775360</td>\n",
              "      <td>0.648506</td>\n",
              "      <td>1.291747</td>\n",
              "      <td>-1.195433</td>\n",
              "      <td>0.339856</td>\n",
              "      <td>-1.411215</td>\n",
              "      <td>0.200311</td>\n",
              "      <td>0.126760</td>\n",
              "      <td>2.535364</td>\n",
              "      <td>0.716360</td>\n",
              "      <td>0.250732</td>\n",
              "      <td>0.000000</td>\n",
              "      <td>2.505989</td>\n",
              "      <td>1.068438</td>\n",
              "      <td>0.302339</td>\n",
              "      <td>0.050564</td>\n",
              "    </tr>\n",
              "    <tr>\n",
              "      <th>499994</th>\n",
              "      <td>1.0</td>\n",
              "      <td>0.955334</td>\n",
              "      <td>-1.524135</td>\n",
              "      <td>-1.189764</td>\n",
              "      <td>1.470348</td>\n",
              "      <td>-0.296168</td>\n",
              "      <td>0.696495</td>\n",
              "      <td>0.851731</td>\n",
              "      <td>0.815524</td>\n",
              "      <td>0.259266</td>\n",
              "      <td>0.340013</td>\n",
              "      <td>1.219641</td>\n",
              "      <td>0.991118</td>\n",
              "      <td>0.721126</td>\n",
              "      <td>0.000000</td>\n",
              "      <td>1.242410</td>\n",
              "      <td>0.526798</td>\n",
              "      <td>1.313807</td>\n",
              "      <td>0.160337</td>\n",
              "    </tr>\n",
              "    <tr>\n",
              "      <th>499995</th>\n",
              "      <td>0.0</td>\n",
              "      <td>0.719035</td>\n",
              "      <td>1.091879</td>\n",
              "      <td>0.291540</td>\n",
              "      <td>1.205962</td>\n",
              "      <td>-1.599117</td>\n",
              "      <td>-1.139445</td>\n",
              "      <td>0.424546</td>\n",
              "      <td>1.154849</td>\n",
              "      <td>0.637185</td>\n",
              "      <td>-0.091178</td>\n",
              "      <td>1.972156</td>\n",
              "      <td>0.697028</td>\n",
              "      <td>0.313636</td>\n",
              "      <td>0.988602</td>\n",
              "      <td>1.981573</td>\n",
              "      <td>0.744828</td>\n",
              "      <td>1.095080</td>\n",
              "      <td>0.006546</td>\n",
              "    </tr>\n",
              "    <tr>\n",
              "      <th>499996</th>\n",
              "      <td>1.0</td>\n",
              "      <td>0.910016</td>\n",
              "      <td>-0.364544</td>\n",
              "      <td>-0.777120</td>\n",
              "      <td>0.543648</td>\n",
              "      <td>-0.910632</td>\n",
              "      <td>-1.723707</td>\n",
              "      <td>2.864673</td>\n",
              "      <td>1.458272</td>\n",
              "      <td>2.176558</td>\n",
              "      <td>-0.590911</td>\n",
              "      <td>0.673695</td>\n",
              "      <td>1.662140</td>\n",
              "      <td>2.189362</td>\n",
              "      <td>1.195041</td>\n",
              "      <td>0.910815</td>\n",
              "      <td>1.181893</td>\n",
              "      <td>1.252362</td>\n",
              "      <td>0.826035</td>\n",
              "    </tr>\n",
              "    <tr>\n",
              "      <th>499997</th>\n",
              "      <td>1.0</td>\n",
              "      <td>0.842954</td>\n",
              "      <td>0.332476</td>\n",
              "      <td>-1.048564</td>\n",
              "      <td>1.347989</td>\n",
              "      <td>0.320496</td>\n",
              "      <td>-0.666358</td>\n",
              "      <td>0.450433</td>\n",
              "      <td>-0.411872</td>\n",
              "      <td>0.293407</td>\n",
              "      <td>0.630491</td>\n",
              "      <td>0.859920</td>\n",
              "      <td>0.403371</td>\n",
              "      <td>0.416258</td>\n",
              "      <td>0.591989</td>\n",
              "      <td>0.372003</td>\n",
              "      <td>0.716788</td>\n",
              "      <td>0.366991</td>\n",
              "      <td>0.265798</td>\n",
              "    </tr>\n",
              "    <tr>\n",
              "      <th>499998</th>\n",
              "      <td>0.0</td>\n",
              "      <td>1.370760</td>\n",
              "      <td>-1.162912</td>\n",
              "      <td>0.893499</td>\n",
              "      <td>2.118091</td>\n",
              "      <td>1.248496</td>\n",
              "      <td>-0.887211</td>\n",
              "      <td>0.164659</td>\n",
              "      <td>0.316840</td>\n",
              "      <td>0.215165</td>\n",
              "      <td>0.280418</td>\n",
              "      <td>3.087083</td>\n",
              "      <td>0.526929</td>\n",
              "      <td>0.151467</td>\n",
              "      <td>0.308067</td>\n",
              "      <td>3.098183</td>\n",
              "      <td>0.233042</td>\n",
              "      <td>0.876216</td>\n",
              "      <td>0.000593</td>\n",
              "    </tr>\n",
              "    <tr>\n",
              "      <th>499999</th>\n",
              "      <td>0.0</td>\n",
              "      <td>0.762400</td>\n",
              "      <td>0.440924</td>\n",
              "      <td>0.342885</td>\n",
              "      <td>1.034283</td>\n",
              "      <td>1.740353</td>\n",
              "      <td>-1.083314</td>\n",
              "      <td>0.872145</td>\n",
              "      <td>-1.519894</td>\n",
              "      <td>0.284328</td>\n",
              "      <td>-0.360861</td>\n",
              "      <td>0.956828</td>\n",
              "      <td>0.965979</td>\n",
              "      <td>0.895881</td>\n",
              "      <td>1.020396</td>\n",
              "      <td>0.996446</td>\n",
              "      <td>0.943458</td>\n",
              "      <td>1.299870</td>\n",
              "      <td>0.197220</td>\n",
              "    </tr>\n",
              "  </tbody>\n",
              "</table>\n",
              "<p>500000 rows × 19 columns</p>\n",
              "</div>"
            ],
            "text/plain": [
              "        signal    l_1_pT   l_1_eta  ...  M_Delta_R  dPhi_r_b  cos_theta_r1\n",
              "0          0.0  0.972861  0.653855  ...   0.994464  1.367815      0.040714\n",
              "1          1.0  1.667973  0.064191  ...   0.205356  1.321893      0.377584\n",
              "2          1.0  0.444840 -0.134298  ...   1.562374  1.135454      0.180910\n",
              "3          1.0  0.381256 -0.976145  ...   1.715464  1.492257      0.090719\n",
              "4          1.0  1.309996 -0.690089  ...   0.043429  1.154854      0.094859\n",
              "5          0.0  0.456398  1.099371  ...   0.345541  0.733242      0.186044\n",
              "6          0.0  0.437818 -1.119883  ...   0.515522  0.479110      0.029058\n",
              "7          0.0  0.571656  0.205696  ...   0.268207  0.315795      0.125728\n",
              "8          1.0  2.112812  0.742983  ...   2.148468  1.179117      0.688057\n",
              "9          0.0  1.001869 -0.471788  ...   0.592259  1.325197      0.083014\n",
              "10         0.0  0.840115  0.958249  ...   0.338552  1.137456      0.011040\n",
              "11         0.0  1.263320  0.733208  ...   0.709708  1.578325      0.184405\n",
              "12         0.0  0.698336  1.689431  ...   0.510385  0.584092      0.031694\n",
              "13         0.0  0.578286 -0.689652  ...   0.559017  1.286520      0.400292\n",
              "14         1.0  0.798202  0.099358  ...   1.556949  1.245781      0.538010\n",
              "15         1.0  0.452214 -0.004851  ...   1.258978  1.000029      0.237916\n",
              "16         0.0  0.865126 -1.109674  ...   0.099123  1.526896      0.103202\n",
              "17         0.0  0.679042 -0.116113  ...   1.583448  0.462588      0.192226\n",
              "18         0.0  0.696711  1.532483  ...   0.039989  0.126778      0.040972\n",
              "19         1.0  1.006098 -0.218872  ...   1.207057  0.418392      0.219343\n",
              "20         1.0  0.837867  1.134530  ...   0.607716  1.156936      0.310599\n",
              "21         0.0  1.641748 -1.829807  ...   0.546993  0.354201      0.016105\n",
              "22         0.0  1.466649  0.115517  ...   1.258800  0.443045      0.415406\n",
              "23         1.0  1.641595 -1.044596  ...   1.215011  0.937398      0.513443\n",
              "24         1.0  1.361442 -0.506247  ...   0.969957  1.209303      0.039710\n",
              "25         0.0  1.297482 -0.254912  ...   0.810835  1.115006      0.394822\n",
              "26         0.0  0.378505 -1.082134  ...   1.068429  1.305904      0.347194\n",
              "27         0.0  0.675933  0.126536  ...   1.435927  1.072373      0.474427\n",
              "28         0.0  0.463987  0.011333  ...   1.836446  1.168629      0.602618\n",
              "29         0.0  1.164915 -1.216874  ...   1.296029  0.454520      0.027528\n",
              "...        ...       ...       ...  ...        ...       ...           ...\n",
              "499970     0.0  0.537460 -0.347555  ...   0.305339  1.461438      0.047792\n",
              "499971     0.0  0.419760 -0.627942  ...   1.367273  1.345422      0.217747\n",
              "499972     0.0  0.395581  0.178242  ...   0.432241  0.774401      0.150890\n",
              "499973     0.0  0.972934  0.113099  ...   1.364477  0.914701      0.493136\n",
              "499974     0.0  1.469271  0.936537  ...   0.862139  0.610447      0.018870\n",
              "499975     1.0  0.632105  0.214231  ...   1.591792  1.528694      0.377555\n",
              "499976     1.0  0.768289 -0.703875  ...   0.315197  1.000176      0.112849\n",
              "499977     1.0  0.842067  0.240811  ...   0.438825  0.028602      0.002863\n",
              "499978     0.0  0.385378  1.108041  ...   0.611990  1.172607      0.117587\n",
              "499979     0.0  0.772624  1.276190  ...   1.619714  0.891851      0.046894\n",
              "499980     1.0  2.289871 -0.333451  ...   0.631249  0.960101      0.571544\n",
              "499981     0.0  0.643809 -0.335417  ...   0.927189  1.542992      0.057488\n",
              "499982     0.0  1.158484 -1.582587  ...   1.107719  0.340854      0.082717\n",
              "499983     1.0  0.527736 -0.199356  ...   1.122904  0.688181      0.286788\n",
              "499984     0.0  0.295727 -1.780252  ...   0.881214  1.534354      0.332833\n",
              "499985     0.0  0.420714  1.583586  ...   0.200298  1.373753      0.261667\n",
              "499986     0.0  0.470995 -0.544267  ...   0.268812  1.092968      0.064755\n",
              "499987     1.0  0.525562 -0.570116  ...   0.870140  1.322785      0.050931\n",
              "499988     1.0  0.939203  0.496058  ...   1.287094  1.173716      0.095378\n",
              "499989     0.0  0.470020  0.205567  ...   0.660589  1.510957      0.124461\n",
              "499990     0.0  0.549398 -1.242782  ...   0.588468  1.221528      0.004398\n",
              "499991     1.0  1.521302  0.734693  ...   0.739515  1.115782      0.227649\n",
              "499992     0.0  0.663924  1.333877  ...   0.390820  1.149154      0.031734\n",
              "499993     0.0  1.406509 -1.771548  ...   1.068438  0.302339      0.050564\n",
              "499994     1.0  0.955334 -1.524135  ...   0.526798  1.313807      0.160337\n",
              "499995     0.0  0.719035  1.091879  ...   0.744828  1.095080      0.006546\n",
              "499996     1.0  0.910016 -0.364544  ...   1.181893  1.252362      0.826035\n",
              "499997     1.0  0.842954  0.332476  ...   0.716788  0.366991      0.265798\n",
              "499998     0.0  1.370760 -1.162912  ...   0.233042  0.876216      0.000593\n",
              "499999     0.0  0.762400  0.440924  ...   0.943458  1.299870      0.197220\n",
              "\n",
              "[500000 rows x 19 columns]"
            ]
          },
          "metadata": {
            "tags": []
          },
          "execution_count": 20
        }
      ]
    },
    {
      "cell_type": "markdown",
      "metadata": {
        "colab_type": "text",
        "id": "o_95bNlPnNNe"
      },
      "source": [
        "The first column stores the \"truth\" label of whether an event was signal or background. Pandas makes it easy to create dataframes that store only the signal or background events:"
      ]
    },
    {
      "cell_type": "code",
      "metadata": {
        "colab_type": "code",
        "id": "IDpOOdJ7nNNf",
        "colab": {}
      },
      "source": [
        "df_sig=df[df.signal==1]\n",
        "df_bkg=df[df.signal==0]"
      ],
      "execution_count": 0,
      "outputs": []
    },
    {
      "cell_type": "markdown",
      "metadata": {
        "colab_type": "text",
        "id": "wEqL0BKXnNNh"
      },
      "source": [
        "The following example plots the signal and background distributions of every variable. Note that we use VarNames[1:] to skip the first variable, which was the true label. \n",
        "\n",
        "For a thorough walk-through of Pandas, try the [Pandas 101](https://github.com/afarbin/INFN-ML-Course/blob/master/notebooks/Pandas-101.ipynb) notebook if you like.\n",
        "\n",
        "We will use matplotlib for plotting. There are lots of tutorials and primers out there that you can find searching the web. A good tutorial can be found in the [Scipy Lectures](http://www.scipy-lectures.org/intro/matplotlib/matplotlib.html). Look through these on your own time, it is not necessary for doing these exercise. The code below is all you need to know for making histograms with matplotlib."
      ]
    },
    {
      "cell_type": "code",
      "metadata": {
        "colab_type": "code",
        "id": "-mCeEs9KnNNi",
        "colab": {
          "base_uri": "https://localhost:8080/",
          "height": 4860
        },
        "outputId": "657f08a2-1e95-4825-c58a-24c2afd7f6b0"
      },
      "source": [
        "for var in VarNames[1:]:\n",
        "    print var\n",
        "    plt.figure()\n",
        "    plt.hist(np.array(df_sig[var]),bins=100,histtype=\"step\", color=\"red\",label=\"background\",stacked=True)\n",
        "    plt.hist(np.array(df_bkg[var]),bins=100,histtype=\"step\", color=\"blue\", label=\"signal\",stacked=True)\n",
        "    plt.legend(loc='upper right')\n",
        "    plt.show()"
      ],
      "execution_count": 22,
      "outputs": [
        {
          "output_type": "stream",
          "text": [
            "l_1_pT\n"
          ],
          "name": "stdout"
        },
        {
          "output_type": "display_data",
          "data": {
            "image/png": "[encoded data removed]",
            "text/plain": [
              "<Figure size 432x288 with 1 Axes>"
            ]
          },
          "metadata": {
            "tags": []
          }
        },
        {
          "output_type": "stream",
          "text": [
            "l_1_eta\n"
          ],
          "name": "stdout"
        },
        {
          "output_type": "display_data",
          "data": {
            "image/png": "[encoded data removed]",
            "text/plain": [
              "<Figure size 432x288 with 1 Axes>"
            ]
          },
          "metadata": {
            "tags": []
          }
        },
        {
          "output_type": "stream",
          "text": [
            "l_1_phi\n"
          ],
          "name": "stdout"
        },
        {
          "output_type": "display_data",
          "data": {
            "image/png": "[encoded data removed]",
            "text/plain": [
              "<Figure size 432x288 with 1 Axes>"
            ]
          },
          "metadata": {
            "tags": []
          }
        },
        {
          "output_type": "stream",
          "text": [
            "l_2_pT\n"
          ],
          "name": "stdout"
        },
        {
          "output_type": "display_data",
          "data": {
            "image/png": "[encoded data removed]",
            "text/plain": [
              "<Figure size 432x288 with 1 Axes>"
            ]
          },
          "metadata": {
            "tags": []
          }
        },
        {
          "output_type": "stream",
          "text": [
            "l_2_eta\n"
          ],
          "name": "stdout"
        },
        {
          "output_type": "display_data",
          "data": {
            "image/png": "[encoded data removed]",
            "text/plain": [
              "<Figure size 432x288 with 1 Axes>"
            ]
          },
          "metadata": {
            "tags": []
          }
        },
        {
          "output_type": "stream",
          "text": [
            "l_2_phi\n"
          ],
          "name": "stdout"
        },
        {
          "output_type": "display_data",
          "data": {
            "image/png": "[encoded data removed]",
            "text/plain": [
              "<Figure size 432x288 with 1 Axes>"
            ]
          },
          "metadata": {
            "tags": []
          }
        },
        {
          "output_type": "stream",
          "text": [
            "MET\n"
          ],
          "name": "stdout"
        },
        {
          "output_type": "display_data",
          "data": {
            "image/png": "[encoded data removed]",
            "text/plain": [
              "<Figure size 432x288 with 1 Axes>"
            ]
          },
          "metadata": {
            "tags": []
          }
        },
        {
          "output_type": "stream",
          "text": [
            "MET_phi\n"
          ],
          "name": "stdout"
        },
        {
          "output_type": "display_data",
          "data": {
            "image/png": "[encoded data removed]",
            "text/plain": [
              "<Figure size 432x288 with 1 Axes>"
            ]
          },
          "metadata": {
            "tags": []
          }
        },
        {
          "output_type": "stream",
          "text": [
            "MET_rel\n"
          ],
          "name": "stdout"
        },
        {
          "output_type": "display_data",
          "data": {
            "image/png": "[encoded data removed]",
            "text/plain": [
              "<Figure size 432x288 with 1 Axes>"
            ]
          },
          "metadata": {
            "tags": []
          }
        },
        {
          "output_type": "stream",
          "text": [
            "axial_MET\n"
          ],
          "name": "stdout"
        },
        {
          "output_type": "display_data",
          "data": {
            "image/png": "[encoded data removed]",
            "text/plain": [
              "<Figure size 432x288 with 1 Axes>"
            ]
          },
          "metadata": {
            "tags": []
          }
        },
        {
          "output_type": "stream",
          "text": [
            "M_R\n"
          ],
          "name": "stdout"
        },
        {
          "output_type": "display_data",
          "data": {
            "image/png": "[encoded data removed]",
            "text/plain": [
              "<Figure size 432x288 with 1 Axes>"
            ]
          },
          "metadata": {
            "tags": []
          }
        },
        {
          "output_type": "stream",
          "text": [
            "M_TR_2\n"
          ],
          "name": "stdout"
        },
        {
          "output_type": "display_data",
          "data": {
            "image/png": "[encoded data removed]",
            "text/plain": [
              "<Figure size 432x288 with 1 Axes>"
            ]
          },
          "metadata": {
            "tags": []
          }
        },
        {
          "output_type": "stream",
          "text": [
            "R\n"
          ],
          "name": "stdout"
        },
        {
          "output_type": "display_data",
          "data": {
            "image/png": "[encoded data removed]",
            "text/plain": [
              "<Figure size 432x288 with 1 Axes>"
            ]
          },
          "metadata": {
            "tags": []
          }
        },
        {
          "output_type": "stream",
          "text": [
            "MT2\n"
          ],
          "name": "stdout"
        },
        {
          "output_type": "display_data",
          "data": {
            "image/png": "[encoded data removed]",
            "text/plain": [
              "<Figure size 432x288 with 1 Axes>"
            ]
          },
          "metadata": {
            "tags": []
          }
        },
        {
          "output_type": "stream",
          "text": [
            "S_R\n"
          ],
          "name": "stdout"
        },
        {
          "output_type": "display_data",
          "data": {
            "image/png": "[encoded data removed]",
            "text/plain": [
              "<Figure size 432x288 with 1 Axes>"
            ]
          },
          "metadata": {
            "tags": []
          }
        },
        {
          "output_type": "stream",
          "text": [
            "M_Delta_R\n"
          ],
          "name": "stdout"
        },
        {
          "output_type": "display_data",
          "data": {
            "image/png": "[encoded data removed]",
            "text/plain": [
              "<Figure size 432x288 with 1 Axes>"
            ]
          },
          "metadata": {
            "tags": []
          }
        },
        {
          "output_type": "stream",
          "text": [
            "dPhi_r_b\n"
          ],
          "name": "stdout"
        },
        {
          "output_type": "display_data",
          "data": {
            "image/png": "[encoded data removed]",
            "text/plain": [
              "<Figure size 432x288 with 1 Axes>"
            ]
          },
          "metadata": {
            "tags": []
          }
        },
        {
          "output_type": "stream",
          "text": [
            "cos_theta_r1\n"
          ],
          "name": "stdout"
        },
        {
          "output_type": "display_data",
          "data": {
            "image/png": "[encoded data removed]",
            "text/plain": [
              "<Figure size 432x288 with 1 Axes>"
            ]
          },
          "metadata": {
            "tags": []
          }
        }
      ]
    },
    {
      "cell_type": "markdown",
      "metadata": {
        "colab_type": "text",
        "id": "zk6zRtSqQr7Y"
      },
      "source": [
        "Making 2-D plot is also very easy. For example:"
      ]
    },
    {
      "cell_type": "code",
      "metadata": {
        "colab_type": "code",
        "id": "SBI4luy-Q9rD",
        "outputId": "217d321b-3bfc-4dbd-d030-7109020f5763",
        "colab": {
          "base_uri": "https://localhost:8080/",
          "height": 286
        }
      },
      "source": [
        "# Make a vector of numbers going from 0 to 10 in steps of .1\n",
        "X=np.arange(0,10,.1)\n",
        "# Plot X vs X^2\n",
        "plt.plot(X,X*X)"
      ],
      "execution_count": 23,
      "outputs": [
        {
          "output_type": "execute_result",
          "data": {
            "text/plain": [
              "[<matplotlib.lines.Line2D at 0x7f5565fc1910>]"
            ]
          },
          "metadata": {
            "tags": []
          },
          "execution_count": 23
        },
        {
          "output_type": "display_data",
          "data": {
            "image/png": "[encoded data removed]",
            "text/plain": [
              "<Figure size 432x288 with 1 Axes>"
            ]
          },
          "metadata": {
            "tags": []
          }
        }
      ]
    },
    {
      "cell_type": "code",
      "metadata": {
        "colab_type": "code",
        "id": "9hPtb9kuQ9wd",
        "outputId": "9279ac0c-d2ae-40ef-c86b-ae07b014ad4b",
        "colab": {
          "base_uri": "https://localhost:8080/",
          "height": 286
        }
      },
      "source": [
        "# Scatter plot of lepton pT vs eta\n",
        "plt.scatter(np.array(df_sig[\"l_1_pT\"]),np.array(df_sig[\"l_1_eta\"]))"
      ],
      "execution_count": 24,
      "outputs": [
        {
          "output_type": "execute_result",
          "data": {
            "text/plain": [
              "<matplotlib.collections.PathCollection at 0x7f55635f9950>"
            ]
          },
          "metadata": {
            "tags": []
          },
          "execution_count": 24
        },
        {
          "output_type": "display_data",
          "data": {
            "image/png": "[encoded data removed]",
            "text/plain": [
              "<Figure size 432x288 with 1 Axes>"
            ]
          },
          "metadata": {
            "tags": []
          }
        }
      ]
    },
    {
      "cell_type": "markdown",
      "metadata": {
        "id": "09-5IDKqbqrm",
        "colab_type": "text"
      },
      "source": [
        "For a walk-thorough of matplotlib, try the [matplotlib 101](https://github.com/afarbin/INFN-ML-Course/blob/master/notebooks/Matplotlib-101.ipynb) notebook if you like. You may also consider trying [Seaborn](https://seaborn.pydata.org), which is a nicer and more powerful visualization library. Try the [Seaborn 101](https://github.com/afarbin/INFN-ML-Course/blob/master/notebooks/Seaborn-101.ipynb) notebook if you like."
      ]
    },
    {
      "cell_type": "markdown",
      "metadata": {
        "colab_type": "text",
        "id": "lHx4d_dAnNNk"
      },
      "source": [
        "<a id='Scikit-learn'></a>\n",
        "## 3. Scikit-learn\n",
        "\n",
        "[Scikit-learn](http://scikit-learn.org) is a rich python library for data science, including machine learning. As an example, we can easily build a Fisher Discriminant (aka Linear Discriminant Analysis, or LDA). The [LDA Documentation](http://scikit-learn.org/stable/modules/lda_qda.html#dimensionality-reduction-using-linear-discriminant-analysis) does as great job explaining this classifier. Here's how we instanciate the classifier: "
      ]
    },
    {
      "cell_type": "code",
      "metadata": {
        "colab_type": "code",
        "id": "QPHqbj_snNNl",
        "colab": {}
      },
      "source": [
        "import sklearn.discriminant_analysis as DA\n",
        "Fisher=DA.LinearDiscriminantAnalysis()"
      ],
      "execution_count": 0,
      "outputs": []
    },
    {
      "cell_type": "markdown",
      "metadata": {
        "colab_type": "text",
        "id": "mHb4qd5FnNNm"
      },
      "source": [
        "Lets separate the data into inputs (X) vs outputs (Y) and training vs testing samples:"
      ]
    },
    {
      "cell_type": "code",
      "metadata": {
        "colab_type": "code",
        "id": "2kVXZ7KZnNNn",
        "colab": {}
      },
      "source": [
        "N_Train=40000\n",
        "\n",
        "Train_Sample=df[:N_Train]\n",
        "Test_Sample=df[N_Train:]\n",
        "\n",
        "X_Train=Train_Sample[VarNames[1:]]\n",
        "y_Train=Train_Sample[\"signal\"]\n",
        "\n",
        "X_Test=Test_Sample[VarNames[1:]]\n",
        "y_Test=Test_Sample[\"signal\"]\n",
        "\n",
        "Test_sig=Test_Sample[Test_Sample.signal==1]\n",
        "Test_bkg=Test_Sample[Test_Sample.signal==0]"
      ],
      "execution_count": 0,
      "outputs": []
    },
    {
      "cell_type": "markdown",
      "metadata": {
        "colab_type": "text",
        "id": "HFOKx0dHnNNp"
      },
      "source": [
        "We can train the classifier as follow:"
      ]
    },
    {
      "cell_type": "code",
      "metadata": {
        "colab_type": "code",
        "id": "mozDMu8WnNNp",
        "colab": {
          "base_uri": "https://localhost:8080/",
          "height": 51
        },
        "outputId": "2269ca81-54aa-45a7-9c82-e83819b8cac7"
      },
      "source": [
        "Fisher.fit(X_Train,y_Train)"
      ],
      "execution_count": 30,
      "outputs": [
        {
          "output_type": "execute_result",
          "data": {
            "text/plain": [
              "LinearDiscriminantAnalysis(n_components=None, priors=None, shrinkage=None,\n",
              "              solver='svd', store_covariance=False, tol=0.0001)"
            ]
          },
          "metadata": {
            "tags": []
          },
          "execution_count": 30
        }
      ]
    },
    {
      "cell_type": "markdown",
      "metadata": {
        "colab_type": "text",
        "id": "_QIcHu5EnNNq"
      },
      "source": [
        "We can plot the output, comparing signal and background:"
      ]
    },
    {
      "cell_type": "code",
      "metadata": {
        "colab_type": "code",
        "id": "XoUC7rAqnNNq",
        "colab": {
          "base_uri": "https://localhost:8080/",
          "height": 269
        },
        "outputId": "aee79699-2fa1-4e55-a0ad-d08b54e28046"
      },
      "source": [
        "plt.figure()\n",
        "plt.hist(Fisher.decision_function(Test_sig[VarNames[1:]]),bins=100,histtype=\"step\", color=\"blue\", label=\"signal\",stacked=True)\n",
        "plt.hist(Fisher.decision_function(Test_bkg[VarNames[1:]]),bins=100,histtype=\"step\", color=\"red\", label=\"background\",stacked=True)\n",
        "plt.legend(loc='upper right')\n",
        "plt.show()"
      ],
      "execution_count": 31,
      "outputs": [
        {
          "output_type": "display_data",
          "data": {
            "image/png": "[encoded data removed]",
            "text/plain": [
              "<Figure size 432x288 with 1 Axes>"
            ]
          },
          "metadata": {
            "tags": []
          }
        }
      ]
    },
    {
      "cell_type": "markdown",
      "metadata": {
        "colab_type": "text",
        "id": "jMpGmqFgnNNr"
      },
      "source": [
        "And we can make a ROC curve and evaluate the AUC:"
      ]
    },
    {
      "cell_type": "code",
      "metadata": {
        "colab_type": "code",
        "id": "B3slujk7nNNs",
        "colab": {
          "base_uri": "https://localhost:8080/",
          "height": 283
        },
        "outputId": "9d4cef45-7d9a-4421-ff00-db27becb1a34"
      },
      "source": [
        "from sklearn.metrics import roc_curve, auc\n",
        "fpr, tpr, _ = roc_curve(y_Test, Fisher.decision_function(X_Test))\n",
        "\n",
        "roc_auc = auc(fpr, tpr)\n",
        "\n",
        "plt.plot(fpr,tpr,color='darkorange',label='ROC curve (area = %0.2f)' % roc_auc)\n",
        "plt.legend(loc=\"lower right\")\n",
        "plt.xlabel('False Positive Rate')\n",
        "plt.ylabel('True Positive Rate')\n",
        "\n",
        "plt.show()"
      ],
      "execution_count": 32,
      "outputs": [
        {
          "output_type": "display_data",
          "data": {
            "image/png": "[encoded data removed]",
            "text/plain": [
              "<Figure size 432x288 with 1 Axes>"
            ]
          },
          "metadata": {
            "tags": []
          }
        }
      ]
    },
    {
      "cell_type": "markdown",
      "metadata": {
        "colab_type": "text",
        "id": "SaGknupanNNt"
      },
      "source": [
        "## Exercise B.3.1\n",
        "\n",
        "Train the Fisher performance using the raw, features, and raw+features as input. Compare the performance one a single plot. Add cells to this notebook as needed. Or start new notebooks."
      ]
    },
    {
      "cell_type": "code",
      "metadata": {
        "colab_type": "code",
        "id": "7IjJ9n4MnNNt",
        "colab": {}
      },
      "source": [
        "X_Train_Raw=Train_Sample[RawNames]\n",
        "X_Test_Raw=Test_Sample[RawNames]\n",
        "\n",
        "X_Train_Features=Train_Sample[FeatureNames]\n",
        "X_Test_Features=Test_Sample[FeatureNames]"
      ],
      "execution_count": 0,
      "outputs": []
    },
    {
      "cell_type": "code",
      "metadata": {
        "colab_type": "code",
        "id": "9nvj0-OdnNNv",
        "colab": {
          "base_uri": "https://localhost:8080/",
          "height": 549
        },
        "outputId": "3a5018ac-4439-442c-cf96-d569dc631ac2"
      },
      "source": [
        "def TrainFisher(X_Train,X_Test,y_Train):\n",
        "    Fisher=DA.LinearDiscriminantAnalysis()\n",
        "    Fisher.fit(X_Train,y_Train)\n",
        "\n",
        "    fpr, tpr, _ = roc_curve(y_Test, Fisher.decision_function(X_Test))\n",
        "    roc_auc = auc(fpr, tpr)\n",
        "\n",
        "    plt.plot(fpr,tpr,color='darkorange',label='ROC curve (area = %0.2f)' % roc_auc)\n",
        "    plt.legend(loc=\"lower right\")\n",
        "    plt.xlabel('False Positive Rate')\n",
        "    plt.ylabel('True Positive Rate')\n",
        "    plt.show()\n",
        "    \n",
        "    return Fisher\n",
        "\n",
        "RawFisher=TrainFisher(X_Train_Raw,X_Test_Raw,y_Train)\n",
        "FeatureFisher=TrainFisher(X_Train_Features,X_Test_Features,y_Train)"
      ],
      "execution_count": 34,
      "outputs": [
        {
          "output_type": "display_data",
          "data": {
            "image/png": "[encoded data removed]",
            "text/plain": [
              "<Figure size 432x288 with 1 Axes>"
            ]
          },
          "metadata": {
            "tags": []
          }
        },
        {
          "output_type": "display_data",
          "data": {
            "image/png": "[encoded data removed]",
            "text/plain": [
              "<Figure size 432x288 with 1 Axes>"
            ]
          },
          "metadata": {
            "tags": []
          }
        }
      ]
    },
    {
      "cell_type": "markdown",
      "metadata": {
        "colab_type": "text",
        "id": "sMzUKZuwnNNw"
      },
      "source": [
        "## Exercise B.3.2\n",
        "\n",
        "Select 3 different classifiers from the techniques listed [here](http://scikit-learn.org/stable/supervised_learning.html#supervised-learning). Note that you can use the multi-layer peceptron to build a deep network, though training may be prohibitively slow, so avoid this technique. Perform the comparison in exercise 1 for each classifier. Compare your conclusions for your selected techniques to the paper.\n"
      ]
    },
    {
      "cell_type": "markdown",
      "metadata": {
        "colab_type": "text",
        "id": "71Ly0DGCnNNx"
      },
      "source": [
        "## Exercise B.3.3\n",
        "\n",
        "The following function calculates the significance of the observation of the signal given the number of expected Signal and Background events, using the simple formula $\\sigma_S= \\frac{N_S}{\\sqrt{N_S+N_B}}$. Read through the code carefully."
      ]
    },
    {
      "cell_type": "code",
      "metadata": {
        "colab_type": "code",
        "id": "GFEkexIznNNx",
        "colab": {
          "base_uri": "https://localhost:8080/",
          "height": 626
        },
        "outputId": "ec0bf143-50ca-4cf6-cae5-f17ad8f2e613"
      },
      "source": [
        "def PlotSignificance(N_S,N_B, N_S_min=1):\n",
        "    plt.figure()\n",
        "    eff_sig,bins_sig,p_sig=plt.hist(Fisher.decision_function(Test_sig[VarNames[1:]]),bins=100,histtype=\"step\", color=\"blue\", label=\"signal\",cumulative=-1,stacked=True,normed=True)\n",
        "    eff_bkg,bins_bkg,p_bkg=plt.hist(Fisher.decision_function(Test_bkg[VarNames[1:]]),bins=100,histtype=\"step\", color=\"red\", label=\"background\",cumulative=-1,stacked=True,normed=True)\n",
        "    plt.legend(loc='upper right')\n",
        "    plt.show()\n",
        "    \n",
        "    good_bins = np.where(eff_sig*N_S>=N_S_min)\n",
        "\n",
        "    print len(good_bins[0])\n",
        "    if len(good_bins[0])<1:\n",
        "        print \"Insufficient Signal.\"\n",
        "        return 0,0,0\n",
        "    \n",
        "    significance=(N_S*eff_sig)/np.sqrt((N_B*eff_bkg)+(N_S*eff_sig))\n",
        "\n",
        "    plt.figure()\n",
        "    plt.plot(bins_sig[:-1],significance)\n",
        "    \n",
        "    max_sign=np.max(significance[good_bins])\n",
        "    max_signI=np.argmax(significance[good_bins])\n",
        "    \n",
        "    plt.show()\n",
        "    print \"Max significance at \", bins_sig[max_signI], \" of\", max_sign\n",
        "    return bins_sig[max_signI],max_sign, max_signI\n",
        "    \n",
        "PlotSignificance(1000000,1e11)\n"
      ],
      "execution_count": 35,
      "outputs": [
        {
          "output_type": "stream",
          "text": [
            "/usr/local/lib/python2.7/dist-packages/matplotlib/axes/_axes.py:6571: UserWarning: The 'normed' kwarg is deprecated, and has been replaced by the 'density' kwarg.\n",
            "  warnings.warn(\"The 'normed' kwarg is deprecated, and has been \"\n"
          ],
          "name": "stderr"
        },
        {
          "output_type": "display_data",
          "data": {
            "image/png": "[encoded data removed]",
            "text/plain": [
              "<Figure size 432x288 with 1 Axes>"
            ]
          },
          "metadata": {
            "tags": []
          }
        },
        {
          "output_type": "stream",
          "text": [
            "100\n"
          ],
          "name": "stdout"
        },
        {
          "output_type": "display_data",
          "data": {
            "image/png": "[encoded data removed]",
            "text/plain": [
              "<Figure size 432x288 with 1 Axes>"
            ]
          },
          "metadata": {
            "tags": []
          }
        },
        {
          "output_type": "stream",
          "text": [
            "Max significance at  -4.958534983427182  of 3.1622618488986616\n"
          ],
          "name": "stdout"
        },
        {
          "output_type": "execute_result",
          "data": {
            "text/plain": [
              "(-4.958534983427182, 3.1622618488986616, 0)"
            ]
          },
          "metadata": {
            "tags": []
          },
          "execution_count": 35
        }
      ]
    },
    {
      "cell_type": "markdown",
      "metadata": {
        "colab_type": "text",
        "id": "z6Hg2MAZnNNz"
      },
      "source": [
        "Answer the following questions:\n",
        "   * What are we computing when making a normalized cummulative plot? \n",
        "   * Assume that the experiment produces 1 signal event for every $10^{11}$ background events. For each of your classifiers, how many signal events need to be produced to be able to make a $5\\sigma$ discovery claim?\n",
        "  "
      ]
    },
    {
      "cell_type": "markdown",
      "metadata": {
        "colab_type": "text",
        "id": "yNsCtDkInNNJ"
      },
      "source": [
        "<a id='h5py'></a>\n",
        "## 4. h5py\n",
        "\n",
        "[HDF5](https://support.hdfgroup.org/HDF5/) is a \"data model, library, and file format for storing and managing data.\" It is also the most common storage format in data science. [h5py](http://www.h5py.org) provides a python API for HDF5. In most cases, you do not need to know very much about HDF5 or h5py, just how to read/write tensors into/from files, which you can easily pick up from the [h5py Quick Start](http://docs.h5py.org/en/latest/quick.html#quick). We won't be using HDF5 for this tutorial. This section is here as reference for when you do encounter an HDF5 file.\n",
        "\n",
        "Here's an example of how you can save the data we are using into an h5 file:\n",
        "\n"
      ]
    },
    {
      "cell_type": "code",
      "metadata": {
        "colab_type": "code",
        "id": "uRnmz_NlLefK",
        "colab": {}
      },
      "source": [
        "import h5py\n",
        "hf = h5py.File('SUSY.h5', 'w')\n",
        "hf.create_dataset('Events', data=df)\n",
        "hf.close()"
      ],
      "execution_count": 0,
      "outputs": []
    },
    {
      "cell_type": "markdown",
      "metadata": {
        "colab_type": "text",
        "id": "v8B7wTg0RugF"
      },
      "source": [
        "And here's how you \"read\" it back:"
      ]
    },
    {
      "cell_type": "code",
      "metadata": {
        "colab_type": "code",
        "id": "QXdEXHo4R16I",
        "outputId": "94e01436-1414-4982-dfa2-c2791b935443",
        "colab": {
          "base_uri": "https://localhost:8080/",
          "height": 34
        }
      },
      "source": [
        "hf = h5py.File('SUSY.h5')\n",
        "print hf.keys()\n",
        "\n",
        "my_data=hf[\"Events\"]"
      ],
      "execution_count": 37,
      "outputs": [
        {
          "output_type": "stream",
          "text": [
            "[u'Events']\n"
          ],
          "name": "stdout"
        }
      ]
    },
    {
      "cell_type": "markdown",
      "metadata": {
        "colab_type": "text",
        "id": "XE2R9BcFSFlM"
      },
      "source": [
        "Note while the data you are reading back is the same, it was stored in a pandas dataframe before and now is in h5 data object. One important difference is that the h5 doesn't actually load the data into memory until you access it, which is can be useful for very large datasets. You can convert the data into a numpy tensor or a pandas dataframe, but then the data will be loaded into memory.\n",
        "\n",
        "You will also note since the data is saved in binary and not text format, h5 files are much more  space efficient:"
      ]
    },
    {
      "cell_type": "code",
      "metadata": {
        "colab_type": "code",
        "id": "ai8To3dRS7a7",
        "outputId": "764e95aa-4059-4642-ca98-d613b25fc379",
        "colab": {
          "base_uri": "https://localhost:8080/",
          "height": 148
        }
      },
      "source": [
        "!ls -lh"
      ],
      "execution_count": 38,
      "outputs": [
        {
          "output_type": "stream",
          "text": [
            "total 2.6G\n",
            "-rw-r--r-- 1 root root    0 May 20 07:51 A_File\n",
            "drwxr-xr-x 1 root root 4.0K May 15 16:23 sample_data\n",
            "-rw-r--r-- 1 root root 2.3G Feb 14  2014 SUSY.csv\n",
            "-rw-r--r-- 1 root root  73M May 20 07:57 SUSY.h5\n",
            "-rw-r--r-- 1 root root 228M May 20 07:53 SUSY-small.csv\n"
          ],
          "name": "stdout"
        }
      ]
    },
    {
      "cell_type": "markdown",
      "metadata": {
        "colab_type": "text",
        "id": "xFIWjttfnNNz"
      },
      "source": [
        "<a id='DeepLearning'></a>\n",
        "# C. Deep Learning\n",
        "\n",
        "This section is meant to get you started in using Keras to design Deep Neural Networks. The goal here is to simply repeat section B with Deep Learning.\n",
        "\n",
        "We'll need the full dataset to for training our Deep Learning models, so lets reload the full 5M events."
      ]
    },
    {
      "cell_type": "code",
      "metadata": {
        "colab_type": "code",
        "id": "IZVEVofvnNNz",
        "colab": {}
      },
      "source": [
        "import pandas as pd\n",
        "import numpy as np\n",
        "import matplotlib.pyplot as plt\n",
        "%matplotlib inline\n",
        "\n",
        "VarNames=[\"signal\", \"l_1_pT\", \"l_1_eta\",\"l_1_phi\", \"l_2_pT\", \"l_2_eta\", \"l_2_phi\", \"MET\", \"MET_phi\", \"MET_rel\", \"axial_MET\", \"M_R\", \"M_TR_2\", \"R\", \"MT2\", \"S_R\", \"M_Delta_R\", \"dPhi_r_b\", \"cos_theta_r1\"]\n",
        "RawNames=[\"l_1_pT\", \"l_1_eta\",\"l_1_phi\", \"l_2_pT\", \"l_2_eta\", \"l_2_phi\"]\n",
        "FeatureNames=[ \"MET\", \"MET_phi\", \"MET_rel\", \"axial_MET\", \"M_R\", \"M_TR_2\", \"R\", \"MT2\", \"S_R\", \"M_Delta_R\", \"dPhi_r_b\", \"cos_theta_r1\"]\n",
        "\n",
        "SUSY_filename=\"SUSY.csv\"\n",
        "\n",
        "df = pd.read_csv(SUSY_filename, dtype='float64', names=VarNames)"
      ],
      "execution_count": 0,
      "outputs": []
    },
    {
      "cell_type": "markdown",
      "metadata": {
        "colab_type": "text",
        "id": "gQXMeLQ1nNN0"
      },
      "source": [
        "Now lets define training and test samples. Note that DNNs take very long to train, so for testing purposes we will use only about 10% of the 5 million events in the training/validation sample. Once you get everything working, you can go back and make the final version of your plots with the full sample. \n",
        "\n",
        "Also note that Keras had trouble with the Pandas tensors, so after doing all of the nice manipulation that Pandas enables, we convert the Tensor to a regular numpy tensor."
      ]
    },
    {
      "cell_type": "code",
      "metadata": {
        "colab_type": "code",
        "id": "jAqHFHnGnNN1",
        "colab": {}
      },
      "source": [
        "N_Max=550000\n",
        "N_Train=500000\n",
        "\n",
        "Train_Sample=df[:N_Train]\n",
        "Test_Sample=df[N_Train:N_Max]\n",
        "\n",
        "X_Train=np.array(Train_Sample[VarNames[1:]])\n",
        "y_Train=np.array(Train_Sample[\"signal\"])\n",
        "\n",
        "X_Test=np.array(Test_Sample[VarNames[1:]])\n",
        "y_Test=np.array(Test_Sample[\"signal\"])"
      ],
      "execution_count": 0,
      "outputs": []
    },
    {
      "cell_type": "markdown",
      "metadata": {
        "colab_type": "text",
        "id": "l_NlPgg-nNN2"
      },
      "source": [
        "<a id='Keras'></a>\n",
        "## 1. Keras\n",
        "\n",
        "Training Deep Learning models can take a very long time. If you have access to a GPU, training with the GPU will be about 2 orders of magnitude faster that training with just the CPU. Unforunately, there are no GPUs on lxplus. But, if you are running this notebook on a system with NVidia GPU(s) properly setup, you can tell Keras to use a specific GPU:"
      ]
    },
    {
      "cell_type": "code",
      "metadata": {
        "colab_type": "code",
        "id": "n0rNZUXgnNN2",
        "outputId": "262e6466-99e8-41a9-d531-6c0bbcd2a311",
        "colab": {
          "base_uri": "https://localhost:8080/",
          "height": 34
        }
      },
      "source": [
        "# Since lxplus does not have any GPUs, please DO NOT RUN THIS CELL ON LXPLUS.\n",
        "# Selecting First GPU in the system\n",
        "\n",
        "import os\n",
        "\n",
        "# Selecting GPU manually:\n",
        "gpu_id= 0\n",
        "\n",
        "print \"Selected GPU:\", gpu_id\n",
        "\n",
        "# If Using TensorFlow:\n",
        "import tensorflow as tf\n",
        "# CPU Configuation\n",
        "# os.environ['CUDA_VISIBLE_DEVICES'] = '-1'\n",
        "# config = tf.ConfigProto(intra_op_parallelism_threads=0,\n",
        "#                         inter_op_parallelism_threads=0,\n",
        "#                         allow_soft_placement=True,\n",
        "#                         device_count={'CPU' : 1, 'GPU' : 0},                                                \n",
        "#                        )\n",
        "\n",
        "\n",
        "# Comment if using GPU\n",
        "config = tf.ConfigProto(intra_op_parallelism_threads=0,\n",
        "                        inter_op_parallelism_threads=0,\n",
        "                        allow_soft_placement=True,\n",
        "                        gpu_options=tf.GPUOptions(visible_device_list=\"{}\".format(gpu_id),\n",
        "                                                 force_gpu_compatible=True,\n",
        "                                                 allow_growth=True)\n",
        "                       )\n",
        "\n",
        "\n",
        "\n",
        "sess = tf.Session(config=config)  \n",
        "\n",
        "from keras import backend as K\n",
        "K.set_session(sess)"
      ],
      "execution_count": 8,
      "outputs": [
        {
          "output_type": "stream",
          "text": [
            "Selected GPU: 0\n"
          ],
          "name": "stdout"
        }
      ]
    },
    {
      "cell_type": "markdown",
      "metadata": {
        "colab_type": "text",
        "id": "u3qZ0U4AnNN4"
      },
      "source": [
        "Now we will build a simple model. Note that this is a very small model, so things run fast. You should attempt more ambitious models."
      ]
    },
    {
      "cell_type": "code",
      "metadata": {
        "colab_type": "code",
        "id": "WgtmA4CcnNN4",
        "outputId": "f8a6f6d0-bded-4d3b-d830-190b1ae184cc",
        "colab": {
          "base_uri": "https://localhost:8080/",
          "height": 195
        }
      },
      "source": [
        "from keras.models import Sequential\n",
        "from keras.layers import Dense\n",
        "\n",
        "model = Sequential()\n",
        "model.add(Dense(12, input_dim=X_Train.shape[1], init='uniform', activation='relu'))\n",
        "model.add(Dense(8, init='uniform', activation='relu'))\n",
        "model.add(Dense(1, init='uniform', activation='sigmoid'))"
      ],
      "execution_count": 9,
      "outputs": [
        {
          "output_type": "stream",
          "text": [
            "WARNING:tensorflow:From /usr/local/lib/python2.7/dist-packages/tensorflow/python/framework/op_def_library.py:263: colocate_with (from tensorflow.python.framework.ops) is deprecated and will be removed in a future version.\n",
            "Instructions for updating:\n",
            "Colocations handled automatically by placer.\n"
          ],
          "name": "stdout"
        },
        {
          "output_type": "stream",
          "text": [
            "/usr/local/lib/python2.7/dist-packages/ipykernel_launcher.py:5: UserWarning: Update your `Dense` call to the Keras 2 API: `Dense(12, activation=\"relu\", kernel_initializer=\"uniform\", input_dim=18)`\n",
            "  \"\"\"\n",
            "/usr/local/lib/python2.7/dist-packages/ipykernel_launcher.py:6: UserWarning: Update your `Dense` call to the Keras 2 API: `Dense(8, activation=\"relu\", kernel_initializer=\"uniform\")`\n",
            "  \n",
            "/usr/local/lib/python2.7/dist-packages/ipykernel_launcher.py:7: UserWarning: Update your `Dense` call to the Keras 2 API: `Dense(1, activation=\"sigmoid\", kernel_initializer=\"uniform\")`\n",
            "  import sys\n"
          ],
          "name": "stderr"
        }
      ]
    },
    {
      "cell_type": "markdown",
      "metadata": {
        "colab_type": "text",
        "id": "5InqaOj9nNN6"
      },
      "source": [
        "The model has to be compiled. At this time we set the loss function and the optimizer too:"
      ]
    },
    {
      "cell_type": "code",
      "metadata": {
        "colab_type": "code",
        "id": "RYNm3rChnNN7",
        "outputId": "ebc3b589-f5d4-4281-aafc-58a7b45838e6",
        "colab": {
          "base_uri": "https://localhost:8080/",
          "height": 238
        }
      },
      "source": [
        "model.compile(loss='binary_crossentropy', optimizer='adam', metrics=['accuracy'])\n",
        "model.summary()"
      ],
      "execution_count": 10,
      "outputs": [
        {
          "output_type": "stream",
          "text": [
            "_________________________________________________________________\n",
            "Layer (type)                 Output Shape              Param #   \n",
            "=================================================================\n",
            "dense_1 (Dense)              (None, 12)                228       \n",
            "_________________________________________________________________\n",
            "dense_2 (Dense)              (None, 8)                 104       \n",
            "_________________________________________________________________\n",
            "dense_3 (Dense)              (None, 1)                 9         \n",
            "=================================================================\n",
            "Total params: 341\n",
            "Trainable params: 341\n",
            "Non-trainable params: 0\n",
            "_________________________________________________________________\n"
          ],
          "name": "stdout"
        }
      ]
    },
    {
      "cell_type": "markdown",
      "metadata": {
        "colab_type": "text",
        "id": "wOi2w-gWnNN8"
      },
      "source": [
        "Now we train. We are running only 10 epochs in this example. Models may need hundreds of epochs before they stop improving."
      ]
    },
    {
      "cell_type": "code",
      "metadata": {
        "colab_type": "code",
        "id": "Qh_zqOwWnNN9",
        "outputId": "e0b7000f-5243-41bf-a95e-59ddeb982f03",
        "colab": {
          "base_uri": "https://localhost:8080/",
          "height": 514
        }
      },
      "source": [
        "history=model.fit(X_Train, y_Train, validation_data=(X_Test,y_Test), nb_epoch=10, batch_size=2048)"
      ],
      "execution_count": 11,
      "outputs": [
        {
          "output_type": "stream",
          "text": [
            "WARNING:tensorflow:From /usr/local/lib/python2.7/dist-packages/tensorflow/python/ops/math_ops.py:3066: to_int32 (from tensorflow.python.ops.math_ops) is deprecated and will be removed in a future version.\n",
            "Instructions for updating:\n",
            "Use tf.cast instead.\n"
          ],
          "name": "stdout"
        },
        {
          "output_type": "stream",
          "text": [
            "/usr/local/lib/python2.7/dist-packages/ipykernel_launcher.py:1: UserWarning: The `nb_epoch` argument in `fit` has been renamed `epochs`.\n",
            "  \"\"\"Entry point for launching an IPython kernel.\n"
          ],
          "name": "stderr"
        },
        {
          "output_type": "stream",
          "text": [
            "Train on 500000 samples, validate on 50000 samples\n",
            "Epoch 1/10\n",
            "500000/500000 [==============================] - 2s 4us/step - loss: 0.5867 - acc: 0.7245 - val_loss: 0.4783 - val_acc: 0.7799\n",
            "Epoch 2/10\n",
            "500000/500000 [==============================] - 1s 2us/step - loss: 0.4665 - acc: 0.7856 - val_loss: 0.4645 - val_acc: 0.7864\n",
            "Epoch 3/10\n",
            "500000/500000 [==============================] - 1s 3us/step - loss: 0.4552 - acc: 0.7916 - val_loss: 0.4553 - val_acc: 0.7890\n",
            "Epoch 4/10\n",
            "500000/500000 [==============================] - 1s 3us/step - loss: 0.4481 - acc: 0.7945 - val_loss: 0.4490 - val_acc: 0.7918\n",
            "Epoch 5/10\n",
            "500000/500000 [==============================] - 1s 3us/step - loss: 0.4433 - acc: 0.7965 - val_loss: 0.4449 - val_acc: 0.7943\n",
            "Epoch 6/10\n",
            "500000/500000 [==============================] - 1s 2us/step - loss: 0.4404 - acc: 0.7976 - val_loss: 0.4431 - val_acc: 0.7939\n",
            "Epoch 7/10\n",
            "500000/500000 [==============================] - 1s 2us/step - loss: 0.4387 - acc: 0.7984 - val_loss: 0.4413 - val_acc: 0.7962\n",
            "Epoch 8/10\n",
            "500000/500000 [==============================] - 1s 2us/step - loss: 0.4379 - acc: 0.7982 - val_loss: 0.4406 - val_acc: 0.7966\n",
            "Epoch 9/10\n",
            "500000/500000 [==============================] - 1s 3us/step - loss: 0.4372 - acc: 0.7987 - val_loss: 0.4398 - val_acc: 0.7961\n",
            "Epoch 10/10\n",
            "500000/500000 [==============================] - 1s 3us/step - loss: 0.4368 - acc: 0.7985 - val_loss: 0.4395 - val_acc: 0.7967\n"
          ],
          "name": "stdout"
        }
      ]
    },
    {
      "cell_type": "markdown",
      "metadata": {
        "colab_type": "text",
        "id": "7bzdUQKknNN-"
      },
      "source": [
        "The model history keeps track of the loss and accuracy for each epoch. Note that the training above was setup to run on the validation sample at the end of each epoch:"
      ]
    },
    {
      "cell_type": "code",
      "metadata": {
        "colab_type": "code",
        "id": "LBtzkyE1nNN_",
        "outputId": "7cd262fd-391d-4668-df97-da9d529e8c67",
        "colab": {
          "base_uri": "https://localhost:8080/",
          "height": 59
        }
      },
      "source": [
        "print history.history"
      ],
      "execution_count": 12,
      "outputs": [
        {
          "output_type": "stream",
          "text": [
            "{'acc': [0.7245260000038147, 0.7855820000038147, 0.791578, 0.79453, 0.7965199999847412, 0.7976459999961854, 0.7983660000076294, 0.7981660000038147, 0.798664, 0.7985200000038147], 'loss': [0.5867324484291077, 0.46654682368469236, 0.45516348495864867, 0.4481148444290161, 0.44331724311828613, 0.44035587094116213, 0.43873423654556276, 0.4378828936100006, 0.43721432925605774, 0.43678719705963137], 'val_acc': [0.7799400003051757, 0.7863600004959106, 0.789039999961853, 0.7917599995040894, 0.7943200003242493, 0.7939400004196167, 0.7961600002479553, 0.7965599995994568, 0.7960799996948242, 0.7966600001525879], 'val_loss': [0.47828529225349425, 0.4644898741912842, 0.45528260431289674, 0.44897938311576846, 0.4448542743015289, 0.44309860835075376, 0.4413123350715637, 0.44061078084945676, 0.4398499976634979, 0.4394520886707306]}\n"
          ],
          "name": "stdout"
        }
      ]
    },
    {
      "cell_type": "markdown",
      "metadata": {
        "colab_type": "text",
        "id": "hqlD1aT7nNOA"
      },
      "source": [
        "You can plot the loss versus epoch:"
      ]
    },
    {
      "cell_type": "code",
      "metadata": {
        "colab_type": "code",
        "id": "iN0lE7kbnNOA",
        "outputId": "d0a1e803-6890-42cc-a35c-ca9d975611d7",
        "colab": {
          "base_uri": "https://localhost:8080/",
          "height": 286
        }
      },
      "source": [
        "loss_history=history.history[\"loss\"]\n",
        "plt.plot(range(len(loss_history)),loss_history)"
      ],
      "execution_count": 13,
      "outputs": [
        {
          "output_type": "execute_result",
          "data": {
            "text/plain": [
              "[<matplotlib.lines.Line2D at 0x7fe8bab55d50>]"
            ]
          },
          "metadata": {
            "tags": []
          },
          "execution_count": 13
        },
        {
          "output_type": "display_data",
          "data": {
            "image/png": "[encoded data removed]",
            "text/plain": [
              "<Figure size 432x288 with 1 Axes>"
            ]
          },
          "metadata": {
            "tags": []
          }
        }
      ]
    },
    {
      "cell_type": "markdown",
      "metadata": {
        "colab_type": "text",
        "id": "LZDE6xB1nNOB"
      },
      "source": [
        "## Exercise C.1.1\n",
        "\n",
        "You will need to create several models and make sure they are properly trained. Write a function that takes this history and plots the values versus epoch. For every model that you train in the remainder of this lab, assess:\n",
        "\n",
        "    * Has you model's performance plateaued? If not train for more epochs. \n",
        "\n",
        "    * Compare the performance on training versus test sample. Are you over training?"
      ]
    },
    {
      "cell_type": "code",
      "metadata": {
        "colab_type": "code",
        "id": "EZFn80pLnNOB",
        "colab": {}
      },
      "source": [
        "## Your Solution Here\n"
      ],
      "execution_count": 0,
      "outputs": []
    },
    {
      "cell_type": "markdown",
      "metadata": {
        "colab_type": "text",
        "id": "gVVy9VpinNOC"
      },
      "source": [
        "## Exercise C.1.2\n",
        "\n",
        "Explicitly overtrain your model by running for a large number of epochs. Demonstrate that you are over-fitting. Then add dropout layers to your model to alleviate the problem.\n"
      ]
    },
    {
      "cell_type": "markdown",
      "metadata": {
        "colab_type": "text",
        "id": "cfVEG432nNOC"
      },
      "source": [
        "## Exercise C.1.3\n",
        "\n",
        "Following section B, make a comparison of the performance between models trained with raw, features, and raw+features data."
      ]
    },
    {
      "cell_type": "markdown",
      "metadata": {
        "colab_type": "text",
        "id": "WVDUUBj4nNOD"
      },
      "source": [
        "We can evaluate how the trained model does on the test sample as follows:"
      ]
    },
    {
      "cell_type": "code",
      "metadata": {
        "colab_type": "code",
        "id": "MnN7EOvVnNOD",
        "colab": {
          "base_uri": "https://localhost:8080/",
          "height": 51
        },
        "outputId": "03f4fe9d-737d-41fd-e27e-e53ed5bef5b4"
      },
      "source": [
        "scores = model.evaluate(X_Test, y_Test)\n",
        "print scores"
      ],
      "execution_count": 14,
      "outputs": [
        {
          "output_type": "stream",
          "text": [
            "50000/50000 [==============================] - 2s 34us/step\n",
            "[0.43945208986282347, 0.79666]\n"
          ],
          "name": "stdout"
        }
      ]
    },
    {
      "cell_type": "markdown",
      "metadata": {
        "colab_type": "text",
        "id": "F4ZLpdC-nNOE"
      },
      "source": [
        "And we can make ROC curves as before:"
      ]
    },
    {
      "cell_type": "code",
      "metadata": {
        "colab_type": "code",
        "id": "W-qUjGv3nNOE",
        "colab": {
          "base_uri": "https://localhost:8080/",
          "height": 283
        },
        "outputId": "6cd908ac-c441-4c1b-b3dc-d571131e2220"
      },
      "source": [
        "from sklearn.metrics import roc_curve, auc\n",
        "fpr, tpr, _ = roc_curve(y_Test, model.predict(X_Test))\n",
        "                        \n",
        "roc_auc = auc(fpr, tpr)\n",
        "\n",
        "plt.plot(fpr,tpr,color='darkorange',label='ROC curve (area = %0.2f)' % roc_auc)\n",
        "plt.legend(loc=\"lower right\")\n",
        "plt.xlabel('False Positive Rate')\n",
        "plt.ylabel('True Positive Rate')\n",
        "\n",
        "plt.show()"
      ],
      "execution_count": 15,
      "outputs": [
        {
          "output_type": "display_data",
          "data": {
            "image/png": "[encoded data removed]",
            "text/plain": [
              "<Figure size 432x288 with 1 Axes>"
            ]
          },
          "metadata": {
            "tags": []
          }
        }
      ]
    },
    {
      "cell_type": "code",
      "metadata": {
        "colab_type": "code",
        "id": "5JMK5yH3nNOF",
        "colab": {}
      },
      "source": [
        "## Your solution here\n"
      ],
      "execution_count": 0,
      "outputs": []
    },
    {
      "cell_type": "markdown",
      "metadata": {
        "colab_type": "text",
        "id": "azgmNCJenNOG"
      },
      "source": [
        "## Exercise C.1.4\n",
        "\n",
        "Again, following section B, design and implement at least 3 different DNN models. Train them and compare performance. You may try different architectures, loss functions, and optimizers to see if there is an effect."
      ]
    },
    {
      "cell_type": "code",
      "metadata": {
        "colab_type": "code",
        "id": "J0GNsbg0nNOG",
        "colab": {}
      },
      "source": [
        "## Your solution here"
      ],
      "execution_count": 0,
      "outputs": []
    },
    {
      "cell_type": "markdown",
      "metadata": {
        "colab_type": "text",
        "id": "J9aHIzownNOI"
      },
      "source": [
        "## Exercise C.1.5\n",
        "\n",
        "Write a function that evaluates the performance (AUC) as a function of a given input variable. You will need to bin the test data in the variable (i.e. make sub-samples for events which have the particular variable in a range), evaluate the performance in each bin, and plot the results.\n",
        "\n",
        "Apply your function to each input variable."
      ]
    },
    {
      "cell_type": "code",
      "metadata": {
        "colab_type": "code",
        "id": "hOwIuZvbnNOI",
        "colab": {}
      },
      "source": [
        "## Your solution here"
      ],
      "execution_count": 0,
      "outputs": []
    },
    {
      "cell_type": "code",
      "metadata": {
        "colab_type": "code",
        "id": "_O8xg4CsnNOK",
        "colab": {}
      },
      "source": [
        ""
      ],
      "execution_count": 0,
      "outputs": []
    }
  ]
}